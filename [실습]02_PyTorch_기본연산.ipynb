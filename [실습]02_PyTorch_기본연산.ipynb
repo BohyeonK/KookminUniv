{
 "cells": [
  {
   "cell_type": "code",
   "execution_count": 1,
   "metadata": {
    "executionInfo": {
     "elapsed": 585,
     "status": "ok",
     "timestamp": 1610698814597,
     "user": {
      "displayName": "­김대희[컴퓨터공학과]",
      "photoUrl": "",
      "userId": "16036391449035610585"
     },
     "user_tz": -540
    },
    "id": "82i4sHjFsnbS"
   },
   "outputs": [],
   "source": [
    "%matplotlib inline"
   ]
  },
  {
   "cell_type": "markdown",
   "metadata": {
    "id": "uCg5X3BvsnbW"
   },
   "source": [
    "\n",
    "What is PyTorch?\n",
    "================\n",
    "\n",
    "Python 기반의 과학 연산 패키지로 다음과 같은 두 집단을 대상으로 합니다:\n",
    "\n",
    "-  NumPy를 대체하면서 GPU를 이용한 연산이 필요한 경우\n",
    "-  최대한의 유연성과 속도를 제공하는 딥러닝 연구 플랫폼이 필요한 경우\n",
    "\n",
    "Getting Started\n",
    "---------------\n",
    "\n",
    "Tensor는 NumPy의 ndarray와 유사하며, 추가로 GPU를 사용한 연산 가속도 가능합니다.\n",
    "\n"
   ]
  },
  {
   "cell_type": "code",
   "execution_count": 2,
   "metadata": {
    "colab": {
     "base_uri": "https://localhost:8080/",
     "height": 35
    },
    "executionInfo": {
     "elapsed": 4082,
     "status": "ok",
     "timestamp": 1610698874235,
     "user": {
      "displayName": "­김대희[컴퓨터공학과]",
      "photoUrl": "",
      "userId": "16036391449035610585"
     },
     "user_tz": -540
    },
    "id": "ZZoDnlxosnbX",
    "outputId": "9f98a2a4-2171-4a09-bfb6-5215b7da4262"
   },
   "outputs": [
    {
     "data": {
      "text/plain": [
       "'1.9.1+cu111'"
      ]
     },
     "execution_count": 2,
     "metadata": {},
     "output_type": "execute_result"
    }
   ],
   "source": [
    "from __future__ import print_function\n",
    "import torch\n",
    "\n",
    "torch.__version__"
   ]
  },
  {
   "cell_type": "markdown",
   "metadata": {
    "id": "emUXTaC5snba"
   },
   "source": [
    "초기화되지 않은 5x3 행렬을 생성합니다:\n",
    "\n"
   ]
  },
  {
   "cell_type": "code",
   "execution_count": 4,
   "metadata": {
    "colab": {
     "base_uri": "https://localhost:8080/"
    },
    "executionInfo": {
     "elapsed": 571,
     "status": "ok",
     "timestamp": 1610698914708,
     "user": {
      "displayName": "­김대희[컴퓨터공학과]",
      "photoUrl": "",
      "userId": "16036391449035610585"
     },
     "user_tz": -540
    },
    "id": "LsX9dpsnsnba",
    "outputId": "c0a52af1-79d5-4ea6-9fdf-5cca2dc52a7d"
   },
   "outputs": [
    {
     "name": "stdout",
     "output_type": "stream",
     "text": [
      "tensor([[1.0469e-38, 9.3674e-39, 9.9184e-39],\n",
      "        [8.7245e-39, 9.2755e-39, 8.9082e-39],\n",
      "        [9.9184e-39, 8.4490e-39, 9.6429e-39],\n",
      "        [1.0653e-38, 1.0469e-38, 4.2246e-39],\n",
      "        [1.0378e-38, 9.6429e-39, 9.2755e-39]])\n"
     ]
    }
   ],
   "source": [
    "x = torch.empty(5, 3)\n",
    "print(x)"
   ]
  },
  {
   "cell_type": "markdown",
   "metadata": {
    "id": "DuS8_CjRsnbe"
   },
   "source": [
    "무작위로 초기화된 행렬을 생성합니다:\n",
    "\n"
   ]
  },
  {
   "cell_type": "code",
   "execution_count": 5,
   "metadata": {
    "colab": {
     "base_uri": "https://localhost:8080/"
    },
    "executionInfo": {
     "elapsed": 618,
     "status": "ok",
     "timestamp": 1610698958209,
     "user": {
      "displayName": "­김대희[컴퓨터공학과]",
      "photoUrl": "",
      "userId": "16036391449035610585"
     },
     "user_tz": -540
    },
    "id": "-gDc29L4snbf",
    "outputId": "6049ef99-b145-4d6f-b0fe-f1ba2cc899a3"
   },
   "outputs": [
    {
     "name": "stdout",
     "output_type": "stream",
     "text": [
      "tensor([[ 1.9927, -0.7878,  0.6342],\n",
      "        [-0.1019,  0.5303, -1.1593],\n",
      "        [ 0.1418,  1.5432,  0.0206],\n",
      "        [ 2.8912,  0.4303,  0.2716],\n",
      "        [-2.2295,  0.4997,  0.2315]])\n",
      "tensor([[0.9110, 0.1982, 0.8906],\n",
      "        [0.5112, 0.6941, 0.3967],\n",
      "        [0.1742, 0.2128, 0.0359],\n",
      "        [0.8860, 0.7558, 0.2320],\n",
      "        [0.4648, 0.1824, 0.5419]])\n"
     ]
    }
   ],
   "source": [
    "x = torch.randn(5, 3) #표준정규분포에서 샘플링하는 것\n",
    "print(x)\n",
    "x = torch.rand(5, 3) #0~1사이의 값을 샘플링하는 것\n",
    "print(x)"
   ]
  },
  {
   "cell_type": "markdown",
   "metadata": {
    "id": "EnDW3xa2snbh"
   },
   "source": [
    "dtype이 long이고 0으로 채워진 행렬을 생성합니다:\n",
    "\n"
   ]
  },
  {
   "cell_type": "code",
   "execution_count": 6,
   "metadata": {
    "colab": {
     "base_uri": "https://localhost:8080/"
    },
    "executionInfo": {
     "elapsed": 653,
     "status": "ok",
     "timestamp": 1610699022440,
     "user": {
      "displayName": "­김대희[컴퓨터공학과]",
      "photoUrl": "",
      "userId": "16036391449035610585"
     },
     "user_tz": -540
    },
    "id": "ooNlMfAIsnbi",
    "outputId": "4e931175-99aa-447f-d03f-f82a76166986"
   },
   "outputs": [
    {
     "name": "stdout",
     "output_type": "stream",
     "text": [
      "tensor([[0, 0, 0],\n",
      "        [0, 0, 0],\n",
      "        [0, 0, 0],\n",
      "        [0, 0, 0],\n",
      "        [0, 0, 0]])\n"
     ]
    }
   ],
   "source": [
    "x = torch.zeros(5, 3, dtype=torch.long)\n",
    "print(x)"
   ]
  },
  {
   "cell_type": "code",
   "execution_count": 7,
   "metadata": {
    "colab": {
     "base_uri": "https://localhost:8080/"
    },
    "executionInfo": {
     "elapsed": 545,
     "status": "ok",
     "timestamp": 1610699038228,
     "user": {
      "displayName": "­김대희[컴퓨터공학과]",
      "photoUrl": "",
      "userId": "16036391449035610585"
     },
     "user_tz": -540
    },
    "id": "AkcOHXD9KCyq",
    "outputId": "376b61f4-2b31-4083-f17d-a99c68cb229b"
   },
   "outputs": [
    {
     "name": "stdout",
     "output_type": "stream",
     "text": [
      "tensor([[1, 1, 1],\n",
      "        [1, 1, 1],\n",
      "        [1, 1, 1],\n",
      "        [1, 1, 1],\n",
      "        [1, 1, 1]])\n"
     ]
    }
   ],
   "source": [
    "x = torch.ones(5, 3, dtype=torch.long)\n",
    "print(x)"
   ]
  },
  {
   "cell_type": "markdown",
   "metadata": {
    "id": "yrjRCiCZsnbk"
   },
   "source": [
    "데이터로부터 tensor를 직접 생성합니다:\n",
    "\n"
   ]
  },
  {
   "cell_type": "code",
   "execution_count": 8,
   "metadata": {
    "colab": {
     "base_uri": "https://localhost:8080/"
    },
    "executionInfo": {
     "elapsed": 750,
     "status": "ok",
     "timestamp": 1610699060863,
     "user": {
      "displayName": "­김대희[컴퓨터공학과]",
      "photoUrl": "",
      "userId": "16036391449035610585"
     },
     "user_tz": -540
    },
    "id": "nc0Xx93Nsnbk",
    "outputId": "97c4e58c-eb8f-49d9-e291-90072f151d4b"
   },
   "outputs": [
    {
     "name": "stdout",
     "output_type": "stream",
     "text": [
      "tensor([5.5000, 3.0000])\n"
     ]
    }
   ],
   "source": [
    "x = torch.tensor([5.5, 3])\n",
    "print(x)"
   ]
  },
  {
   "cell_type": "markdown",
   "metadata": {
    "id": "dXeA4TPFsnbn"
   },
   "source": [
    "또는 존재하는 tensor를 바탕으로 tensor를 만듭니다. \n",
    "이 메소드(method)들은 사용자로부터 제공된 새로운 값이 없는 한, 입력 tensor의 속성들(예. dtype)을 재사용합니다.\n"
   ]
  },
  {
   "cell_type": "code",
   "execution_count": 10,
   "metadata": {
    "colab": {
     "base_uri": "https://localhost:8080/"
    },
    "executionInfo": {
     "elapsed": 532,
     "status": "ok",
     "timestamp": 1610699074015,
     "user": {
      "displayName": "­김대희[컴퓨터공학과]",
      "photoUrl": "",
      "userId": "16036391449035610585"
     },
     "user_tz": -540
    },
    "id": "BpiM1li7snbn",
    "outputId": "4ee8224b-0c85-4dbd-af97-9ce91cef13b2"
   },
   "outputs": [
    {
     "name": "stdout",
     "output_type": "stream",
     "text": [
      "tensor([[1., 1., 1.],\n",
      "        [1., 1., 1.],\n",
      "        [1., 1., 1.],\n",
      "        [1., 1., 1.],\n",
      "        [1., 1., 1.]], dtype=torch.float64)\n",
      "tensor([[ 0.4662,  0.6106,  0.6764],\n",
      "        [-0.4464, -0.1958,  0.3140],\n",
      "        [-1.1860, -0.9838, -0.0473],\n",
      "        [ 1.0794,  0.5333, -0.8492],\n",
      "        [ 0.5926, -1.0124,  0.5278]])\n"
     ]
    }
   ],
   "source": [
    "x = x.new_ones(5, 3, dtype=torch.double)      # new_* methods take in sizes\n",
    "print(x)\n",
    "\n",
    "x = torch.randn_like(x, dtype=torch.float)    # override dtype!\n",
    "print(x)                                      # result has the same size"
   ]
  },
  {
   "cell_type": "markdown",
   "metadata": {
    "id": "F6kOn4Oosnbq"
   },
   "source": [
    "행렬의 크기를 구합니다:\n",
    "\n"
   ]
  },
  {
   "cell_type": "code",
   "execution_count": 11,
   "metadata": {
    "colab": {
     "base_uri": "https://localhost:8080/"
    },
    "executionInfo": {
     "elapsed": 585,
     "status": "ok",
     "timestamp": 1610699177732,
     "user": {
      "displayName": "­김대희[컴퓨터공학과]",
      "photoUrl": "",
      "userId": "16036391449035610585"
     },
     "user_tz": -540
    },
    "id": "1bXCTCXpsnbq",
    "outputId": "0f16d6f3-a388-4aa9-d8f5-1de817ed7659"
   },
   "outputs": [
    {
     "name": "stdout",
     "output_type": "stream",
     "text": [
      "torch.Size([5, 3])\n",
      "torch.Size([5, 3])\n"
     ]
    }
   ],
   "source": [
    "print(x.size())\n",
    "print(x.shape)"
   ]
  },
  {
   "cell_type": "markdown",
   "metadata": {
    "id": "Jq9jZCRKsnbu"
   },
   "source": [
    "\n",
    "덧셈: 문법1"
   ]
  },
  {
   "cell_type": "code",
   "execution_count": 12,
   "metadata": {
    "colab": {
     "base_uri": "https://localhost:8080/"
    },
    "executionInfo": {
     "elapsed": 576,
     "status": "ok",
     "timestamp": 1610699203752,
     "user": {
      "displayName": "­김대희[컴퓨터공학과]",
      "photoUrl": "",
      "userId": "16036391449035610585"
     },
     "user_tz": -540
    },
    "id": "uCWXyD2Hsnbu",
    "outputId": "c8314f0a-3907-45c7-e434-b78b1be5dafd"
   },
   "outputs": [
    {
     "name": "stdout",
     "output_type": "stream",
     "text": [
      "tensor([[ 0.4662,  0.6106,  0.6764],\n",
      "        [-0.4464, -0.1958,  0.3140],\n",
      "        [-1.1860, -0.9838, -0.0473],\n",
      "        [ 1.0794,  0.5333, -0.8492],\n",
      "        [ 0.5926, -1.0124,  0.5278]])\n",
      "tensor([[0.1415, 0.2077, 0.7731],\n",
      "        [0.3950, 0.5327, 0.2100],\n",
      "        [0.6950, 0.8215, 0.9175],\n",
      "        [0.8233, 0.3537, 0.6344],\n",
      "        [0.4842, 0.3372, 0.5483]])\n",
      "tensor([[ 0.6077,  0.8183,  1.4495],\n",
      "        [-0.0514,  0.3369,  0.5240],\n",
      "        [-0.4910, -0.1623,  0.8702],\n",
      "        [ 1.9026,  0.8870, -0.2148],\n",
      "        [ 1.0768, -0.6752,  1.0761]])\n"
     ]
    }
   ],
   "source": [
    "y = torch.rand(5, 3)\n",
    "print(x)\n",
    "print(y)\n",
    "print(x + y)"
   ]
  },
  {
   "cell_type": "markdown",
   "metadata": {
    "id": "DFu4Lo3csnbx"
   },
   "source": [
    "덧셈: 문법2\n",
    "\n"
   ]
  },
  {
   "cell_type": "code",
   "execution_count": 13,
   "metadata": {
    "colab": {
     "base_uri": "https://localhost:8080/"
    },
    "executionInfo": {
     "elapsed": 606,
     "status": "ok",
     "timestamp": 1610699233765,
     "user": {
      "displayName": "­김대희[컴퓨터공학과]",
      "photoUrl": "",
      "userId": "16036391449035610585"
     },
     "user_tz": -540
    },
    "id": "DzKHzVOBsnbx",
    "outputId": "8ed4fcea-9884-4b83-cfb9-b8bccd6f3062"
   },
   "outputs": [
    {
     "name": "stdout",
     "output_type": "stream",
     "text": [
      "tensor([[ 0.6077,  0.8183,  1.4495],\n",
      "        [-0.0514,  0.3369,  0.5240],\n",
      "        [-0.4910, -0.1623,  0.8702],\n",
      "        [ 1.9026,  0.8870, -0.2148],\n",
      "        [ 1.0768, -0.6752,  1.0761]])\n"
     ]
    }
   ],
   "source": [
    "print(torch.add(x, y))"
   ]
  },
  {
   "cell_type": "markdown",
   "metadata": {
    "id": "Ovk3r-8Psnbz"
   },
   "source": [
    "덧셈: 결과 tensor를 인자로 제공\n"
   ]
  },
  {
   "cell_type": "code",
   "execution_count": 14,
   "metadata": {
    "colab": {
     "base_uri": "https://localhost:8080/"
    },
    "executionInfo": {
     "elapsed": 541,
     "status": "ok",
     "timestamp": 1610699251245,
     "user": {
      "displayName": "­김대희[컴퓨터공학과]",
      "photoUrl": "",
      "userId": "16036391449035610585"
     },
     "user_tz": -540
    },
    "id": "ZOB9erkpsnbz",
    "outputId": "be0a32e5-b004-4b6c-fc1a-3d0a9433ae2b"
   },
   "outputs": [
    {
     "name": "stdout",
     "output_type": "stream",
     "text": [
      "tensor([[1.0286e-38, 1.0653e-38, 1.0194e-38],\n",
      "        [8.4490e-39, 1.0469e-38, 9.3674e-39],\n",
      "        [9.9184e-39, 8.7245e-39, 9.2755e-39],\n",
      "        [8.9082e-39, 9.9184e-39, 8.4490e-39],\n",
      "        [9.6429e-39, 1.0653e-38, 1.0469e-38]])\n",
      "tensor([[ 0.6077,  0.8183,  1.4495],\n",
      "        [-0.0514,  0.3369,  0.5240],\n",
      "        [-0.4910, -0.1623,  0.8702],\n",
      "        [ 1.9026,  0.8870, -0.2148],\n",
      "        [ 1.0768, -0.6752,  1.0761]])\n"
     ]
    }
   ],
   "source": [
    "result = torch.empty(5, 3)\n",
    "print(result)\n",
    "\n",
    "torch.add(x, y, out=result)\n",
    "print(result)"
   ]
  },
  {
   "cell_type": "markdown",
   "metadata": {
    "id": "HN2T-jLrsnb1"
   },
   "source": [
    "덧셈: 바꿔치기(In-place) 방식\n"
   ]
  },
  {
   "cell_type": "code",
   "execution_count": 15,
   "metadata": {
    "colab": {
     "base_uri": "https://localhost:8080/"
    },
    "executionInfo": {
     "elapsed": 643,
     "status": "ok",
     "timestamp": 1610699339141,
     "user": {
      "displayName": "­김대희[컴퓨터공학과]",
      "photoUrl": "",
      "userId": "16036391449035610585"
     },
     "user_tz": -540
    },
    "id": "Lf3t8CEHsnb2",
    "outputId": "80c757a6-efa0-4d47-c7a3-ede6e0368e27"
   },
   "outputs": [
    {
     "name": "stdout",
     "output_type": "stream",
     "text": [
      "tensor([[0.1415, 0.2077, 0.7731],\n",
      "        [0.3950, 0.5327, 0.2100],\n",
      "        [0.6950, 0.8215, 0.9175],\n",
      "        [0.8233, 0.3537, 0.6344],\n",
      "        [0.4842, 0.3372, 0.5483]])\n",
      "tensor([[ 0.6077,  0.8183,  1.4495],\n",
      "        [-0.0514,  0.3369,  0.5240],\n",
      "        [-0.4910, -0.1623,  0.8702],\n",
      "        [ 1.9026,  0.8870, -0.2148],\n",
      "        [ 1.0768, -0.6752,  1.0761]])\n"
     ]
    }
   ],
   "source": [
    "# adds x to y\n",
    "print(y)\n",
    "y.add_(x) #y를 x를 더한 값으로 바꿈\n",
    "print(y)"
   ]
  },
  {
   "cell_type": "markdown",
   "metadata": {
    "id": "Otzt2-mMsnb4"
   },
   "source": [
    "<div class=\"alert alert-info\"><h4>Note</h4><p>바꿔치기(In-place) 방식으로 tensor의 값을 변경하는 연산은 _ 를 접미사로 갖습니다.<p>\n",
    "예: x.copy_(y), x.t_() 는 x 를 변경합니다.\n",
    "\n",
    "<p>\n",
    "NumPy스러운 인덱싱 표기 방법을 사용할 수도 있습니다!\n"
   ]
  },
  {
   "cell_type": "code",
   "execution_count": 16,
   "metadata": {
    "colab": {
     "base_uri": "https://localhost:8080/"
    },
    "executionInfo": {
     "elapsed": 575,
     "status": "ok",
     "timestamp": 1610699389627,
     "user": {
      "displayName": "­김대희[컴퓨터공학과]",
      "photoUrl": "",
      "userId": "16036391449035610585"
     },
     "user_tz": -540
    },
    "id": "kKg180otsnb4",
    "outputId": "6599278b-b6a8-4126-a400-ef4b2b255bc8",
    "scrolled": true
   },
   "outputs": [
    {
     "name": "stdout",
     "output_type": "stream",
     "text": [
      "tensor([[ 0.4662,  0.6106,  0.6764],\n",
      "        [-0.4464, -0.1958,  0.3140],\n",
      "        [-1.1860, -0.9838, -0.0473],\n",
      "        [ 1.0794,  0.5333, -0.8492],\n",
      "        [ 0.5926, -1.0124,  0.5278]])\n",
      "tensor([ 0.6106, -0.1958, -0.9838,  0.5333, -1.0124])\n"
     ]
    }
   ],
   "source": [
    "print(x)\n",
    "print(x[:, 1])"
   ]
  },
  {
   "cell_type": "markdown",
   "metadata": {
    "id": "FDLx9bI3snb7"
   },
   "source": [
    "크기 변경: tensor의 크기(size)나 모양(shape)을 변경하고 싶다면 torch.view 를 사용합니다:\n"
   ]
  },
  {
   "cell_type": "code",
   "execution_count": 17,
   "metadata": {
    "colab": {
     "base_uri": "https://localhost:8080/"
    },
    "executionInfo": {
     "elapsed": 613,
     "status": "ok",
     "timestamp": 1610699438649,
     "user": {
      "displayName": "­김대희[컴퓨터공학과]",
      "photoUrl": "",
      "userId": "16036391449035610585"
     },
     "user_tz": -540
    },
    "id": "DBjVLCv5snb7",
    "outputId": "778a703d-413c-47af-9d54-f0f5e88dad8d"
   },
   "outputs": [
    {
     "name": "stdout",
     "output_type": "stream",
     "text": [
      "tensor([[ 0.3623, -0.1868,  0.5992, -1.0197],\n",
      "        [-0.6739, -0.3269,  0.8140,  0.1330],\n",
      "        [-0.9573,  2.2923,  0.1883,  0.2983],\n",
      "        [ 0.1093, -1.7960,  0.5059,  1.7409]])\n",
      "tensor([ 0.3623, -0.1868,  0.5992, -1.0197, -0.6739, -0.3269,  0.8140,  0.1330,\n",
      "        -0.9573,  2.2923,  0.1883,  0.2983,  0.1093, -1.7960,  0.5059,  1.7409])\n",
      "tensor([[ 0.3623, -0.1868],\n",
      "        [ 0.5992, -1.0197],\n",
      "        [-0.6739, -0.3269],\n",
      "        [ 0.8140,  0.1330],\n",
      "        [-0.9573,  2.2923],\n",
      "        [ 0.1883,  0.2983],\n",
      "        [ 0.1093, -1.7960],\n",
      "        [ 0.5059,  1.7409]])\n",
      "torch.Size([16]) torch.Size([8, 2])\n"
     ]
    }
   ],
   "source": [
    "x = torch.randn(4, 4)\n",
    "print(x)\n",
    "\n",
    "y = x.view(16)\n",
    "z = y.view(-1, 2)  # the size -1 is inferred from other dimensions\n",
    "print(y)\n",
    "print(z)\n",
    "print(y.size(), z.size())"
   ]
  },
  {
   "cell_type": "markdown",
   "metadata": {
    "id": "dDDWiXtXsnb9"
   },
   "source": [
    "만약 tensor에 하나의 값만 존재한다면, .item() 을 사용하면 숫자 값을 얻을 수 있습니다.\n",
    "\n"
   ]
  },
  {
   "cell_type": "code",
   "execution_count": 18,
   "metadata": {
    "colab": {
     "base_uri": "https://localhost:8080/"
    },
    "executionInfo": {
     "elapsed": 561,
     "status": "ok",
     "timestamp": 1610699552960,
     "user": {
      "displayName": "­김대희[컴퓨터공학과]",
      "photoUrl": "",
      "userId": "16036391449035610585"
     },
     "user_tz": -540
    },
    "id": "WIhw3GDfsnb-",
    "outputId": "cd34eb28-d349-4b2c-8b14-d9d78e05267a"
   },
   "outputs": [
    {
     "name": "stdout",
     "output_type": "stream",
     "text": [
      "tensor([1.1971])\n",
      "<class 'torch.Tensor'> <class 'float'>\n",
      "1.1971328258514404\n"
     ]
    }
   ],
   "source": [
    "x = torch.randn(1)\n",
    "print(x)\n",
    "print(type(x), type(x.item()))\n",
    "print(x.item())\n"
   ]
  },
  {
   "cell_type": "markdown",
   "metadata": {
    "id": "_qy7VEshsncB"
   },
   "source": [
    "**읽을 거리:**\n",
    "\n",
    "\n",
    "  전치(transposing), 인덱싱(indexing), 슬라이싱(slicing), 수학 계산, 선형 대수, 난수(random number) 등과 같은 100가지 이상의 Tensor 연산은\n",
    "  `여기 <http://pytorch.org/docs/torch>` 에 설명되어 있습니다.\n",
    "\n",
    "NumPy 변환(Bridge)\n",
    "------------\n",
    "\n",
    "Torch Tensor를 NumPy 배열(array)로 변환하거나, 그 반대로 하는 것은 매우 쉽습니다.\n",
    "\n",
    "(CPU 상의) Torch Tensor와 NumPy 배열은 저장 공간을 공유하기 때문에, 하나를 변경하면 다른 하나도 변경됩니다.\n",
    "\n",
    "- Torch Tensor를 NumPy 배열로 변환하기\n",
    "\n"
   ]
  },
  {
   "cell_type": "code",
   "execution_count": 19,
   "metadata": {
    "colab": {
     "base_uri": "https://localhost:8080/"
    },
    "executionInfo": {
     "elapsed": 614,
     "status": "ok",
     "timestamp": 1610699630525,
     "user": {
      "displayName": "­김대희[컴퓨터공학과]",
      "photoUrl": "",
      "userId": "16036391449035610585"
     },
     "user_tz": -540
    },
    "id": "rPKFva3ssncB",
    "outputId": "2ccaf4c4-3176-4a8f-ec67-bae3e9f3c465"
   },
   "outputs": [
    {
     "name": "stdout",
     "output_type": "stream",
     "text": [
      "tensor([1., 1., 1., 1., 1.])\n"
     ]
    }
   ],
   "source": [
    "a = torch.ones(5)\n",
    "print(a)"
   ]
  },
  {
   "cell_type": "code",
   "execution_count": 20,
   "metadata": {
    "colab": {
     "base_uri": "https://localhost:8080/"
    },
    "executionInfo": {
     "elapsed": 548,
     "status": "ok",
     "timestamp": 1610699636242,
     "user": {
      "displayName": "­김대희[컴퓨터공학과]",
      "photoUrl": "",
      "userId": "16036391449035610585"
     },
     "user_tz": -540
    },
    "id": "ZCPCzALIsncD",
    "outputId": "56768a40-5d7a-49e4-ea84-1b6edfcf2c65"
   },
   "outputs": [
    {
     "name": "stdout",
     "output_type": "stream",
     "text": [
      "[1. 1. 1. 1. 1.]\n"
     ]
    }
   ],
   "source": [
    "b = a.numpy()\n",
    "print(b)"
   ]
  },
  {
   "cell_type": "markdown",
   "metadata": {
    "id": "j-8hzE25sncF"
   },
   "source": [
    "NumPy 배열의 값이 어떻게 변하는지 확인해보세요.\n",
    "\n"
   ]
  },
  {
   "cell_type": "code",
   "execution_count": 21,
   "metadata": {
    "colab": {
     "base_uri": "https://localhost:8080/"
    },
    "executionInfo": {
     "elapsed": 588,
     "status": "ok",
     "timestamp": 1610699645359,
     "user": {
      "displayName": "­김대희[컴퓨터공학과]",
      "photoUrl": "",
      "userId": "16036391449035610585"
     },
     "user_tz": -540
    },
    "id": "Wsznw1eqsncF",
    "outputId": "6846221d-9fc6-48e0-8272-6d42c20c094b"
   },
   "outputs": [
    {
     "name": "stdout",
     "output_type": "stream",
     "text": [
      "tensor([2., 2., 2., 2., 2.])\n",
      "[2. 2. 2. 2. 2.]\n"
     ]
    }
   ],
   "source": [
    "a.add_(1)\n",
    "print(a)\n",
    "print(b)"
   ]
  },
  {
   "cell_type": "code",
   "execution_count": 22,
   "metadata": {
    "colab": {
     "base_uri": "https://localhost:8080/"
    },
    "executionInfo": {
     "elapsed": 532,
     "status": "ok",
     "timestamp": 1610699663580,
     "user": {
      "displayName": "­김대희[컴퓨터공학과]",
      "photoUrl": "",
      "userId": "16036391449035610585"
     },
     "user_tz": -540
    },
    "id": "BBFrx-f0QQil",
    "outputId": "b43b3fbc-033d-4a89-c233-0fb54f0cb131"
   },
   "outputs": [
    {
     "name": "stdout",
     "output_type": "stream",
     "text": [
      "tensor([3., 3., 3., 3., 3.])\n",
      "[2. 2. 2. 2. 2.]\n"
     ]
    }
   ],
   "source": [
    "temp = a.clone()\n",
    "temp_numpy = temp.numpy()\n",
    "\n",
    "a.add_(1)\n",
    "print(a)\n",
    "print(temp_numpy)"
   ]
  },
  {
   "cell_type": "markdown",
   "metadata": {
    "id": "pe446bKMsncH"
   },
   "source": [
    " - NumPy 배열을 Torch Tensor로 변환하기  \n",
    " \n",
    "NumPy(np) 배열을 변경하면 Torch Tensor의 값도 자동 변경되는 것을 확인해보세요.\n",
    "\n"
   ]
  },
  {
   "cell_type": "code",
   "execution_count": 23,
   "metadata": {
    "colab": {
     "base_uri": "https://localhost:8080/"
    },
    "executionInfo": {
     "elapsed": 558,
     "status": "ok",
     "timestamp": 1610699690633,
     "user": {
      "displayName": "­김대희[컴퓨터공학과]",
      "photoUrl": "",
      "userId": "16036391449035610585"
     },
     "user_tz": -540
    },
    "id": "1T3FiWWusncI",
    "outputId": "202ac692-7f24-47d6-f234-8e47bd071acd"
   },
   "outputs": [
    {
     "name": "stdout",
     "output_type": "stream",
     "text": [
      "[1. 1. 1. 1. 1.]\n",
      "[2. 2. 2. 2. 2.]\n",
      "tensor([2., 2., 2., 2., 2.], dtype=torch.float64)\n"
     ]
    }
   ],
   "source": [
    "import numpy as np\n",
    "\n",
    "a = np.ones(5)\n",
    "print(a)\n",
    "b = torch.from_numpy(a)\n",
    "np.add(a, 1, out=a)\n",
    "print(a)\n",
    "print(b)"
   ]
  },
  {
   "cell_type": "markdown",
   "metadata": {
    "id": "dc7afeqWsncJ"
   },
   "source": [
    "CharTensor를 제외한 CPU 상의 모든 Tensor는 NumPy로의 변환을 지원하며, (NumPy에서 Tensor로의) 반대 변환도 지원합니다.\n",
    "\n",
    "CUDA Tensors\n",
    "------------\n",
    "\n",
    ".to 메소드를 사용하여 Tensor를 어떠한 장치로도 옮길 수 있습니다.\n",
    "\n"
   ]
  },
  {
   "cell_type": "code",
   "execution_count": 24,
   "metadata": {
    "colab": {
     "base_uri": "https://localhost:8080/"
    },
    "executionInfo": {
     "elapsed": 10773,
     "status": "ok",
     "timestamp": 1610699799364,
     "user": {
      "displayName": "­김대희[컴퓨터공학과]",
      "photoUrl": "",
      "userId": "16036391449035610585"
     },
     "user_tz": -540
    },
    "id": "9CcL3nDUsncK",
    "outputId": "7d2dcf61-a012-4ace-f17a-96ee771d89fc"
   },
   "outputs": [
    {
     "name": "stdout",
     "output_type": "stream",
     "text": [
      "tensor([[1., 1., 1., 1.],\n",
      "        [1., 1., 1., 1.],\n",
      "        [1., 1., 1., 1.],\n",
      "        [1., 1., 1., 1.]], device='cuda:0')\n",
      "tensor([[1.8983, 1.8667, 1.1790, 1.8397],\n",
      "        [1.9174, 1.9086, 1.5222, 1.8781],\n",
      "        [1.5301, 1.9978, 1.9021, 1.8556],\n",
      "        [1.2218, 1.7053, 1.3124, 1.9214]], device='cuda:0')\n",
      "tensor([[1.8983, 1.8667, 1.1790, 1.8397],\n",
      "        [1.9174, 1.9086, 1.5222, 1.8781],\n",
      "        [1.5301, 1.9978, 1.9021, 1.8556],\n",
      "        [1.2218, 1.7053, 1.3124, 1.9214]], dtype=torch.float64)\n"
     ]
    }
   ],
   "source": [
    "import torch\n",
    "\n",
    "# 이 코드는 CUDA가 사용 가능한 환경에서만 실행합니다.\n",
    "# ``torch.device`` 를 사용하여 tensor를 GPU 안팎으로 이동해보겠습니다.\n",
    "\n",
    "x = torch.rand(4,4)\n",
    "\n",
    "if torch.cuda.is_available():\n",
    "    device = \"cuda:0\" # torch.device(\"cuda:0\")          # CUDA 장치 객체(device object)로\n",
    "    y = torch.ones_like(x, device=device)  # GPU 상에 직접적으로 tensor를 생성하거나\n",
    "    print(y)\n",
    "    x = x.to(device)                       # ``.to(\"cuda\")`` 를 사용하면 됩니다.\n",
    "    z = x + y\n",
    "    print(z)\n",
    "    print(z.to(\"cpu\", torch.double))       # ``.to`` 는 dtype도 함께 변경합니다!"
   ]
  },
  {
   "cell_type": "code",
   "execution_count": 25,
   "metadata": {
    "executionInfo": {
     "elapsed": 555,
     "status": "ok",
     "timestamp": 1610699863961,
     "user": {
      "displayName": "­김대희[컴퓨터공학과]",
      "photoUrl": "",
      "userId": "16036391449035610585"
     },
     "user_tz": -540
    },
    "id": "eRUcwWN4yHzu"
   },
   "outputs": [],
   "source": [
    "x = x.cuda()"
   ]
  }
 ],
 "metadata": {
  "accelerator": "GPU",
  "colab": {
   "collapsed_sections": [],
   "name": "Pytorch 실습(1) tensor_tutorial.ipynb",
   "provenance": [
    {
     "file_id": "https://github.com/pytorch/tutorials/blob/gh-pages/_downloads/tensor_tutorial.ipynb",
     "timestamp": 1589251101092
    }
   ],
   "toc_visible": true
  },
  "kernelspec": {
   "display_name": "Python 3",
   "language": "python",
   "name": "python3"
  },
  "language_info": {
   "codemirror_mode": {
    "name": "ipython",
    "version": 3
   },
   "file_extension": ".py",
   "mimetype": "text/x-python",
   "name": "python",
   "nbconvert_exporter": "python",
   "pygments_lexer": "ipython3",
   "version": "3.8.8"
  }
 },
 "nbformat": 4,
 "nbformat_minor": 1
}
