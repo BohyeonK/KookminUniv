{
  "nbformat": 4,
  "nbformat_minor": 0,
  "metadata": {
    "colab": {
      "name": "[실습]04_TensorFlow_CNN(AlexNet).ipynb",
      "provenance": [],
      "collapsed_sections": []
    },
    "kernelspec": {
      "display_name": "Python 3",
      "language": "python",
      "name": "python3"
    },
    "language_info": {
      "codemirror_mode": {
        "name": "ipython",
        "version": 3
      },
      "file_extension": ".py",
      "mimetype": "text/x-python",
      "name": "python",
      "nbconvert_exporter": "python",
      "pygments_lexer": "ipython3",
      "version": "3.8.8"
    }
  },
  "cells": [
    {
      "cell_type": "code",
      "metadata": {
        "id": "TgQpetUTM7Ik"
      },
      "source": [
        "import tensorflow as tf\n",
        "\n",
        "def AlexNet(input_shape=None,weights=None,classes=1000,classifier_activation='softmax'):\n",
        "  \n",
        "    model = tf.keras.Sequential([\n",
        "        #특징 추출 부분 \n",
        "        #Conv 1\n",
        "        tf.keras.layers.Conv2D(filters=96,\n",
        "                               kernel_size=(11, 11),\n",
        "                               strides=4,\n",
        "                               padding=\"valid\",\n",
        "                               activation=tf.keras.activations.relu,\n",
        "                               input_shape=input_shape),\n",
        "        #Max Pool 1\n",
        "        tf.keras.layers.MaxPool2D(pool_size=(3, 3),\n",
        "                                  strides=2,\n",
        "                                  padding=\"valid\"),\n",
        "        tf.keras.layers.BatchNormalization(),\n",
        "        #Conv 2\n",
        "        tf.keras.layers.Conv2D(filters=256,\n",
        "                               kernel_size=(5, 5),\n",
        "                               strides=1,\n",
        "                               padding=\"same\",\n",
        "                               activation=tf.keras.activations.relu),\n",
        "        #Max Pool 2\n",
        "        tf.keras.layers.MaxPool2D(pool_size=(3, 3),\n",
        "                                  strides=2,\n",
        "                                  padding=\"same\"),\n",
        "        tf.keras.layers.BatchNormalization(),\n",
        "        #Conv 3\n",
        "        tf.keras.layers.Conv2D(filters=384,\n",
        "                               kernel_size=(3, 3),\n",
        "                               strides=1,\n",
        "                               padding=\"same\",\n",
        "                               activation=tf.keras.activations.relu),\n",
        "        #Conv 4\n",
        "        tf.keras.layers.Conv2D(filters=384,\n",
        "                               kernel_size=(3, 3),\n",
        "                               strides=1,\n",
        "                               padding=\"same\",\n",
        "                               activation=tf.keras.activations.relu),\n",
        "        #Conv 5\n",
        "        tf.keras.layers.Conv2D(filters=256,\n",
        "                               kernel_size=(3, 3),\n",
        "                               strides=1,\n",
        "                               padding=\"same\",\n",
        "                               activation=tf.keras.activations.relu),\n",
        "        #Max Pool 3\n",
        "        tf.keras.layers.MaxPool2D(pool_size=(3, 3),\n",
        "                                  strides=2,\n",
        "                                  padding=\"same\"),\n",
        "        tf.keras.layers.BatchNormalization(), \n",
        "        tf.keras.layers.Flatten(),\n",
        "      \n",
        "        #분류 층 부분\n",
        "        #Fully connected layer 1 \n",
        "        tf.keras.layers.Dense(units=4096,\n",
        "                            activation=tf.keras.activations.relu),\n",
        "        tf.keras.layers.Dropout(rate=0.2),\n",
        "        #Fully connected layer 2\n",
        "        tf.keras.layers.Dense(units=4096,\n",
        "                            activation=tf.keras.activations.relu),\n",
        "        tf.keras.layers.Dropout(rate=0.2),\n",
        "      \n",
        "        #Fully connected layer 3\n",
        "        tf.keras.layers.Dense(units=classes,\n",
        "                            activation=tf.keras.activations.softmax)])\n",
        "\n",
        "    return model"
      ],
      "execution_count": 1,
      "outputs": []
    }
  ]
}