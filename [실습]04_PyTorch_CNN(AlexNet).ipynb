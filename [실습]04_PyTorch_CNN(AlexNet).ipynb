{
 "cells": [
  {
   "cell_type": "code",
   "execution_count": 3,
   "metadata": {
    "id": "s3G6N4VQkDkD"
   },
   "outputs": [],
   "source": [
    "import torch\n",
    "import torch.nn as nn\n",
    "from torchvision.models.utils import load_state_dict_from_url\n",
    "from typing import Any\n",
    "\n",
    "__all__ = ['AlexNet', 'alexnet']\n",
    "\n",
    "model_urls = {'alexnet': 'https://download.pytorch.org/models/alexnet-owt-4df8aa71.pth',}\n",
    "\n",
    "class AlexNet(nn.Module):\n",
    "    def __init__(self, num_classes: int = 1000) -> None:\n",
    "        super(AlexNet, self).__init__()\n",
    "        self.features = nn.Sequential(\n",
    "            #Conv1\n",
    "            #input channel : 3 , output channel : 64, kernel_size : 11, stride : 4, padding : 2\n",
    "            nn.Conv2d(3, 64, kernel_size=11, stride=4, padding=2),\n",
    "            nn.ReLU(inplace=True), # inplace=True 하면, inplace 연산을 수행함, inplace 연산은 결과값을 새로운 변수에 값을 저장하는 대신 기존의 데이터를 대체하는것을 의미\n",
    "            #Max Pool1\n",
    "            nn.MaxPool2d(kernel_size=3, stride=2),\n",
    "            #Conv2\n",
    "            nn.Conv2d(64, 192, kernel_size=5, padding=2),\n",
    "            nn.ReLU(inplace=True),\n",
    "            #Max Pool2\n",
    "            nn.MaxPool2d(kernel_size=3, stride=2),\n",
    "            #Conv3\n",
    "            nn.Conv2d(192, 384, kernel_size=3, padding=1),\n",
    "            nn.ReLU(inplace=True),\n",
    "            ##Conv4\n",
    "            nn.Conv2d(384, 256, kernel_size=3, padding=1),\n",
    "            nn.ReLU(inplace=True),\n",
    "            #Conv5\n",
    "            nn.Conv2d(256, 256, kernel_size=3, padding=1),\n",
    "            nn.ReLU(inplace=True),\n",
    "            #Max Pool3\n",
    "            nn.MaxPool2d(kernel_size=3, stride=2),)\n",
    "        self.avgpool = nn.AdaptiveAvgPool2d((6, 6))\n",
    "        self.classifier = nn.Sequential(nn.Dropout(),#드롭아웃\n",
    "                                        nn.Linear(256 * 6 * 6, 4096),\n",
    "                                        nn.ReLU(inplace=True),\n",
    "                                        nn.Dropout(),\n",
    "                                        nn.Linear(4096, 4096),\n",
    "                                        nn.ReLU(inplace=True),\n",
    "                                        nn.Linear(4096, num_classes),)\n",
    "\n",
    "    def forward(self, x: torch.Tensor) -> torch.Tensor:\n",
    "        #특징 추출 부분\n",
    "        x = self.features(x)\n",
    "        x = self.avgpool(x)\n",
    "        #output shape : (batch size * 256(channel), 6, 6)\n",
    "        #Flatten\n",
    "        x = torch.flatten(x, 1)\n",
    "        #output shape (batch_size, 256 * 6* 6)\n",
    "        #분류 분류 \n",
    "        x = self.classifier(x)\n",
    "        return x\n",
    "\n",
    "def alexnet(pretrained: bool = False, progress: bool = True, **kwargs: Any) -> AlexNet:\n",
    "    r\"\"\"AlexNet model architecture from the\n",
    "    `\"One weird trick...\" <https://arxiv.org/abs/1404.5997>`_ paper.\n",
    "    Args:\n",
    "        pretrained (bool): If True, returns a model pre-trained on ImageNet\n",
    "        progress (bool): If True, displays a progress bar of the download to stderr\n",
    "    \"\"\"\n",
    "    model = AlexNet(**kwargs)\n",
    "    if pretrained:\n",
    "        state_dict = load_state_dict_from_url(model_urls['alexnet'],progress=progress)\n",
    "        model.load_state_dict(state_dict)\n",
    "    return model"
   ]
  }
 ],
 "metadata": {
  "colab": {
   "authorship_tag": "ABX9TyM2fGN8fNeTZyzrGvTdFFV5",
   "collapsed_sections": [],
   "name": "AlexNet_model(Pytorch).ipynb",
   "provenance": []
  },
  "kernelspec": {
   "display_name": "Python 3",
   "language": "python",
   "name": "python3"
  },
  "language_info": {
   "codemirror_mode": {
    "name": "ipython",
    "version": 3
   },
   "file_extension": ".py",
   "mimetype": "text/x-python",
   "name": "python",
   "nbconvert_exporter": "python",
   "pygments_lexer": "ipython3",
   "version": "3.8.8"
  }
 },
 "nbformat": 4,
 "nbformat_minor": 1
}
