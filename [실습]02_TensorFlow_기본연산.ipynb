{
 "cells": [
  {
   "cell_type": "markdown",
   "metadata": {
    "id": "dRqUbY1kM3Hd"
   },
   "source": [
    "https://www.tensorflow.org/guide/tensor"
   ]
  },
  {
   "cell_type": "code",
   "execution_count": 3,
   "metadata": {
    "colab": {
     "base_uri": "https://localhost:8080/"
    },
    "executionInfo": {
     "elapsed": 2555,
     "status": "ok",
     "timestamp": 1610699886188,
     "user": {
      "displayName": "­김대희[컴퓨터공학과]",
      "photoUrl": "",
      "userId": "16036391449035610585"
     },
     "user_tz": -540
    },
    "id": "gIroHLdyCcyH",
    "outputId": "d5acc2d2-d899-4d5f-caa7-8a32412d0f82"
   },
   "outputs": [
    {
     "name": "stdout",
     "output_type": "stream",
     "text": [
      "2.6.0\n"
     ]
    }
   ],
   "source": [
    "import tensorflow as tf\n",
    "print(tf.__version__)"
   ]
  },
  {
   "cell_type": "markdown",
   "metadata": {
    "id": "eNsMhIJuCWZ6"
   },
   "source": [
    "##변수 생성"
   ]
  },
  {
   "cell_type": "code",
   "execution_count": 4,
   "metadata": {
    "colab": {
     "base_uri": "https://localhost:8080/"
    },
    "executionInfo": {
     "elapsed": 598,
     "status": "ok",
     "timestamp": 1610699919706,
     "user": {
      "displayName": "­김대희[컴퓨터공학과]",
      "photoUrl": "",
      "userId": "16036391449035610585"
     },
     "user_tz": -540
    },
    "id": "jy4ppwPRCYyN",
    "outputId": "f8d881ed-a64b-47e0-93a7-bc785402957c"
   },
   "outputs": [
    {
     "data": {
      "text/plain": [
       "<tf.Variable 'Variable:0' shape=(1, 2, 3) dtype=float32, numpy=\n",
       "array([[[0., 0., 0.],\n",
       "        [0., 0., 0.]]], dtype=float32)>"
      ]
     },
     "execution_count": 4,
     "metadata": {},
     "output_type": "execute_result"
    }
   ],
   "source": [
    "#모양이 [1, 2, 3]이고 값은 0으로 채워진 3차원 텐서가 변수로 생성\n",
    "my_variable = tf.Variable(tf.zeros([1, 2, 3]))\n",
    "my_variable"
   ]
  },
  {
   "cell_type": "markdown",
   "metadata": {
    "id": "ld36yxARC6MP"
   },
   "source": [
    "##변수의 사용"
   ]
  },
  {
   "cell_type": "code",
   "execution_count": 5,
   "metadata": {
    "colab": {
     "base_uri": "https://localhost:8080/"
    },
    "executionInfo": {
     "elapsed": 594,
     "status": "ok",
     "timestamp": 1610699947763,
     "user": {
      "displayName": "­김대희[컴퓨터공학과]",
      "photoUrl": "",
      "userId": "16036391449035610585"
     },
     "user_tz": -540
    },
    "id": "W60cG42xC8Ty",
    "outputId": "3d8add74-7b8e-4262-bf8c-230195ee7b3c"
   },
   "outputs": [
    {
     "name": "stdout",
     "output_type": "stream",
     "text": [
      "<tf.Variable 'Variable:0' shape=() dtype=float32, numpy=0.0>\n",
      "tf.Tensor(1.0, shape=(), dtype=float32)\n"
     ]
    }
   ],
   "source": [
    "# 텐서플로 그래프에서 tf.Variable의 값을 사용하려면 이를 단순히 tf.Tensor로 취급하면 됨\n",
    "v = tf.Variable(0.0)\n",
    "print(v)\n",
    "w = v + 1  # w는 v값 기준으로 계산되는 tf.Tensor 입니다.\n",
    "           # 변수가 수식에 사용될 때, 변수는 자동적으로\n",
    "           # tf.Tensor로 변환되어 값을 표현합니다.\n",
    "print(w)\n",
    "        "
   ]
  },
  {
   "cell_type": "code",
   "execution_count": 6,
   "metadata": {
    "colab": {
     "base_uri": "https://localhost:8080/"
    },
    "executionInfo": {
     "elapsed": 524,
     "status": "ok",
     "timestamp": 1610699988757,
     "user": {
      "displayName": "­김대희[컴퓨터공학과]",
      "photoUrl": "",
      "userId": "16036391449035610585"
     },
     "user_tz": -540
    },
    "id": "moWEqxNlDZ4G",
    "outputId": "c5daf7a5-9eb5-4d11-9d0f-34a2cdc3157f"
   },
   "outputs": [
    {
     "data": {
      "text/plain": [
       "<tf.Tensor: shape=(), dtype=float32, numpy=1.0>"
      ]
     },
     "execution_count": 6,
     "metadata": {},
     "output_type": "execute_result"
    }
   ],
   "source": [
    "#값을 변수에 할당하려면 assign, assign_add 메소드와 tf.Variable 클래스에 있는 친구들(friends)을 사용\n",
    "a = tf.Variable(0.0)\n",
    "a.assign_add(1)\n",
    "a.read_value()  # 1.0"
   ]
  },
  {
   "cell_type": "markdown",
   "metadata": {
    "id": "gmKPtuEZ9Odi"
   },
   "source": [
    "##tf.Tensor 객체의 랭크는 그 차원의 수"
   ]
  },
  {
   "cell_type": "markdown",
   "metadata": {
    "id": "lwc6j81ke7dD"
   },
   "source": [
    "## 랭크 0"
   ]
  },
  {
   "cell_type": "code",
   "execution_count": 7,
   "metadata": {
    "colab": {
     "base_uri": "https://localhost:8080/"
    },
    "executionInfo": {
     "elapsed": 537,
     "status": "ok",
     "timestamp": 1610700020251,
     "user": {
      "displayName": "­김대희[컴퓨터공학과]",
      "photoUrl": "",
      "userId": "16036391449035610585"
     },
     "user_tz": -540
    },
    "id": "V-VBe89SezEO",
    "outputId": "117b6cee-3626-48e0-c186-c2714b5ca8a6"
   },
   "outputs": [
    {
     "name": "stdout",
     "output_type": "stream",
     "text": [
      "<tf.Variable 'Variable:0' shape=() dtype=string, numpy=b'\\xec\\xbd\\x94\\xeb\\x81\\xbc\\xeb\\xa6\\xac'>\n",
      "<tf.Variable 'Variable:0' shape=() dtype=int32, numpy=451>\n",
      "<tf.Variable 'Variable:0' shape=() dtype=float32, numpy=3.1415927>\n",
      "<tf.Variable 'Variable:0' shape=() dtype=complex128, numpy=(12.3-4.85j)>\n"
     ]
    }
   ],
   "source": [
    "mammal = tf.Variable(\"코끼리\", tf.string)\n",
    "ignition = tf.Variable(451, tf.int16)\n",
    "floating = tf.Variable(3.14159265359, tf.float64)\n",
    "its_complicated = tf.Variable(12.3 - 4.85j, tf.complex64)\n",
    "\n",
    "print(mammal)\n",
    "print(ignition)\n",
    "print(floating)\n",
    "print(its_complicated)"
   ]
  },
  {
   "cell_type": "markdown",
   "metadata": {
    "id": "OJ2I99Vte9p3"
   },
   "source": [
    "## 랭크 1 (벡터)"
   ]
  },
  {
   "cell_type": "code",
   "execution_count": 8,
   "metadata": {
    "colab": {
     "base_uri": "https://localhost:8080/"
    },
    "executionInfo": {
     "elapsed": 533,
     "status": "ok",
     "timestamp": 1610700053602,
     "user": {
      "displayName": "­김대희[컴퓨터공학과]",
      "photoUrl": "",
      "userId": "16036391449035610585"
     },
     "user_tz": -540
    },
    "id": "-6NuEImke2HV",
    "outputId": "1ca67cad-fb0b-4b35-a6ef-5fc3823661e9"
   },
   "outputs": [
    {
     "name": "stdout",
     "output_type": "stream",
     "text": [
      "<tf.Variable 'Variable:0' shape=(1,) dtype=string, numpy=\n",
      "array([b'\\xec\\x95\\x88\\xeb\\x85\\x95\\xed\\x95\\x98\\xec\\x84\\xb8\\xec\\x9a\\x94'],\n",
      "      dtype=object)>\n",
      "<tf.Variable 'Variable:0' shape=(2,) dtype=float32, numpy=array([3.14159, 2.71828], dtype=float32)>\n",
      "<tf.Variable 'Variable:0' shape=(5,) dtype=int32, numpy=array([ 2,  3,  5,  7, 11])>\n",
      "<tf.Variable 'Variable:0' shape=(2,) dtype=complex128, numpy=array([12.3-4.85j,  7.5-6.23j])>\n"
     ]
    },
    {
     "data": {
      "text/plain": [
       "<tf.Tensor: shape=(), dtype=int32, numpy=1>"
      ]
     },
     "execution_count": 8,
     "metadata": {},
     "output_type": "execute_result"
    }
   ],
   "source": [
    "mystr = tf.Variable([\"안녕하세요\"], tf.string)\n",
    "cool_numbers  = tf.Variable([3.14159, 2.71828], tf.float32)\n",
    "first_primes = tf.Variable([2, 3, 5, 7, 11], tf.int32)\n",
    "its_very_complicated = tf.Variable([12.3 - 4.85j, 7.5 - 6.23j], tf.complex64)\n",
    "\n",
    "print(mystr)\n",
    "print(cool_numbers)\n",
    "print(first_primes)\n",
    "print(its_very_complicated)\n",
    "tf.rank(mystr)"
   ]
  },
  {
   "cell_type": "markdown",
   "metadata": {
    "id": "uARdmmwee_B4"
   },
   "source": [
    "## 고차원 랭크(랭크2, 랭크 2 tf.Tensor 객체는 최소 한 개 이상의 열과 행으로 구성됩니다)"
   ]
  },
  {
   "cell_type": "code",
   "execution_count": 9,
   "metadata": {
    "colab": {
     "base_uri": "https://localhost:8080/"
    },
    "executionInfo": {
     "elapsed": 634,
     "status": "ok",
     "timestamp": 1610700100000,
     "user": {
      "displayName": "­김대희[컴퓨터공학과]",
      "photoUrl": "",
      "userId": "16036391449035610585"
     },
     "user_tz": -540
    },
    "id": "1WAPYrNwe361",
    "outputId": "0308a5c4-ab75-4f19-b40a-80db251c1070"
   },
   "outputs": [
    {
     "name": "stdout",
     "output_type": "stream",
     "text": [
      "<tf.Variable 'Variable:0' shape=(2, 1) dtype=int32, numpy=\n",
      "array([[ 7],\n",
      "       [11]])>\n",
      "tf.Tensor(2, shape=(), dtype=int32)\n"
     ]
    }
   ],
   "source": [
    "mymat = tf.Variable([[7],[11]], tf.int16)\n",
    "myxor = tf.Variable([[False, True],[True, False]], tf.bool)\n",
    "linear_squares = tf.Variable([[4], [9], [16], [25]], tf.int32)\n",
    "squarish_squares = tf.Variable([ [4, 9], [16, 25] ], tf.int32)\n",
    "\n",
    "#tf.rank : 객체의 랭크 구하기 \n",
    "rank_of_squares = tf.rank(squarish_squares)\n",
    "mymatC = tf.Variable([[7],[11]], tf.int32)\n",
    "\n",
    "print(mymat)\n",
    "print(rank_of_squares)"
   ]
  },
  {
   "cell_type": "code",
   "execution_count": 10,
   "metadata": {
    "executionInfo": {
     "elapsed": 505,
     "status": "ok",
     "timestamp": 1610700171096,
     "user": {
      "displayName": "­김대희[컴퓨터공학과]",
      "photoUrl": "",
      "userId": "16036391449035610585"
     },
     "user_tz": -540
    },
    "id": "_qnMwD0MfCdq"
   },
   "outputs": [],
   "source": [
    "my_image = tf.zeros([10, 299, 299, 3])  # 배치 x 높이 x 너비 x 색상\n",
    "\n",
    "# H*W = 299 * 299"
   ]
  },
  {
   "cell_type": "markdown",
   "metadata": {
    "id": "jTn0rJENfNHa"
   },
   "source": [
    "## tf.Tensor 객체 랭크 구하기"
   ]
  },
  {
   "cell_type": "code",
   "execution_count": 11,
   "metadata": {
    "colab": {
     "base_uri": "https://localhost:8080/"
    },
    "executionInfo": {
     "elapsed": 809,
     "status": "ok",
     "timestamp": 1610700184159,
     "user": {
      "displayName": "­김대희[컴퓨터공학과]",
      "photoUrl": "",
      "userId": "16036391449035610585"
     },
     "user_tz": -540
    },
    "id": "7j5d4th8fDp9",
    "outputId": "527a6e22-b679-44f6-aa6b-54469f823cf5"
   },
   "outputs": [
    {
     "name": "stdout",
     "output_type": "stream",
     "text": [
      "tf.Tensor(4, shape=(), dtype=int32)\n"
     ]
    }
   ],
   "source": [
    "r = tf.rank(my_image)\n",
    "print(r)\n",
    "# 이 코드가 실행된 후 r은 4라는 값을 가지게 됩니다."
   ]
  },
  {
   "cell_type": "markdown",
   "metadata": {
    "id": "pyBLTRDXfQH-"
   },
   "source": [
    "## tf.Tensor 원소 참조하기"
   ]
  },
  {
   "cell_type": "code",
   "execution_count": 12,
   "metadata": {
    "colab": {
     "base_uri": "https://localhost:8080/"
    },
    "executionInfo": {
     "elapsed": 564,
     "status": "ok",
     "timestamp": 1610700216743,
     "user": {
      "displayName": "­김대희[컴퓨터공학과]",
      "photoUrl": "",
      "userId": "16036391449035610585"
     },
     "user_tz": -540
    },
    "id": "Rr8vq1w5fJCq",
    "outputId": "bfa61510-b8c2-4364-ef16-933e3fb4bbe4"
   },
   "outputs": [
    {
     "name": "stdout",
     "output_type": "stream",
     "text": [
      "tf.Tensor(1, shape=(), dtype=int32)\n",
      "tf.Tensor(3, shape=(), dtype=int32)\n"
     ]
    }
   ],
   "source": [
    "my_vector = tf.Variable([1, 2, 3, 4], tf.int32)\n",
    "print(tf.rank(my_vector))\n",
    "\n",
    "my_scalar = my_vector[2]\n",
    "print(my_scalar)"
   ]
  },
  {
   "cell_type": "code",
   "execution_count": 13,
   "metadata": {
    "colab": {
     "base_uri": "https://localhost:8080/"
    },
    "executionInfo": {
     "elapsed": 524,
     "status": "ok",
     "timestamp": 1610700244599,
     "user": {
      "displayName": "­김대희[컴퓨터공학과]",
      "photoUrl": "",
      "userId": "16036391449035610585"
     },
     "user_tz": -540
    },
    "id": "07RlB7c6fTNZ",
    "outputId": "05e63dfd-cfd6-4ff8-ee2b-0eb5d890e9d9"
   },
   "outputs": [
    {
     "name": "stdout",
     "output_type": "stream",
     "text": [
      "<tf.Variable 'Variable:0' shape=(2, 2) dtype=int32, numpy=\n",
      "array([[ 4,  9],\n",
      "       [16, 25]])>\n",
      "tf.Tensor(16, shape=(), dtype=int32)\n"
     ]
    }
   ],
   "source": [
    "print(squarish_squares)\n",
    "my_scalar = squarish_squares[1, 0] # 2행 1열의 값 \n",
    "print(my_scalar) "
   ]
  },
  {
   "cell_type": "code",
   "execution_count": 14,
   "metadata": {
    "colab": {
     "base_uri": "https://localhost:8080/"
    },
    "executionInfo": {
     "elapsed": 534,
     "status": "ok",
     "timestamp": 1610700322719,
     "user": {
      "displayName": "­김대희[컴퓨터공학과]",
      "photoUrl": "",
      "userId": "16036391449035610585"
     },
     "user_tz": -540
    },
    "id": "0xZOFtKdf_nA",
    "outputId": "fcc2e1f3-e8c4-4b4f-a8be-4e6e6baef8aa"
   },
   "outputs": [
    {
     "name": "stdout",
     "output_type": "stream",
     "text": [
      "<tf.Variable 'Variable:0' shape=(2, 2) dtype=int32, numpy=\n",
      "array([[ 4,  9],\n",
      "       [16, 25]])>\n",
      "tf.Tensor([16 25], shape=(2,), dtype=int32)\n",
      "tf.Tensor([ 9 25], shape=(2,), dtype=int32)\n"
     ]
    }
   ],
   "source": [
    "my_row_vector = squarish_squares[1]\n",
    "my_column_vector = squarish_squares[:, 1]\n",
    "print(squarish_squares)\n",
    "print(my_row_vector)\n",
    "print(my_column_vector)"
   ]
  },
  {
   "cell_type": "markdown",
   "metadata": {
    "id": "WR0MNHayhQ0A"
   },
   "source": [
    "## tf.Tensor 객체 형태 얻기"
   ]
  },
  {
   "cell_type": "code",
   "execution_count": 15,
   "metadata": {
    "colab": {
     "base_uri": "https://localhost:8080/"
    },
    "executionInfo": {
     "elapsed": 517,
     "status": "ok",
     "timestamp": 1610700336504,
     "user": {
      "displayName": "­김대희[컴퓨터공학과]",
      "photoUrl": "",
      "userId": "16036391449035610585"
     },
     "user_tz": -540
    },
    "id": "aaw_Hw0Rg4y0",
    "outputId": "89edca7c-ab22-4608-8397-687364b234ef"
   },
   "outputs": [
    {
     "data": {
      "text/plain": [
       "<tf.Tensor: shape=(2, 2), dtype=float32, numpy=\n",
       "array([[0., 0.],\n",
       "       [0., 0.]], dtype=float32)>"
      ]
     },
     "execution_count": 15,
     "metadata": {},
     "output_type": "execute_result"
    }
   ],
   "source": [
    "zeros = tf.zeros(squarish_squares.shape) # squarish_squares.shape으로 새로운 텐서 생성 \n",
    "zeros"
   ]
  },
  {
   "cell_type": "markdown",
   "metadata": {
    "id": "Bi_Jc4JKhl2l"
   },
   "source": [
    "## tf.Tensor 형태 변경"
   ]
  },
  {
   "cell_type": "code",
   "execution_count": 16,
   "metadata": {
    "colab": {
     "base_uri": "https://localhost:8080/",
     "height": 914
    },
    "executionInfo": {
     "elapsed": 648,
     "status": "error",
     "timestamp": 1610700608092,
     "user": {
      "displayName": "­김대희[컴퓨터공학과]",
      "photoUrl": "",
      "userId": "16036391449035610585"
     },
     "user_tz": -540
    },
    "id": "jyAlChurhdL1",
    "outputId": "0c2e9b8f-fc00-4e4f-f902-e3ca337de587"
   },
   "outputs": [
    {
     "name": "stdout",
     "output_type": "stream",
     "text": [
      "(3, 4, 5)\n",
      "tf.Tensor(\n",
      "[[[1. 1. 1. 1. 1.]\n",
      "  [1. 1. 1. 1. 1.]\n",
      "  [1. 1. 1. 1. 1.]\n",
      "  [1. 1. 1. 1. 1.]]\n",
      "\n",
      " [[1. 1. 1. 1. 1.]\n",
      "  [1. 1. 1. 1. 1.]\n",
      "  [1. 1. 1. 1. 1.]\n",
      "  [1. 1. 1. 1. 1.]]\n",
      "\n",
      " [[1. 1. 1. 1. 1.]\n",
      "  [1. 1. 1. 1. 1.]\n",
      "  [1. 1. 1. 1. 1.]\n",
      "  [1. 1. 1. 1. 1.]]], shape=(3, 4, 5), dtype=float32)\n",
      "====matrix=====\n",
      "tf.Tensor(\n",
      "[[1. 1. 1. 1. 1. 1. 1. 1. 1. 1.]\n",
      " [1. 1. 1. 1. 1. 1. 1. 1. 1. 1.]\n",
      " [1. 1. 1. 1. 1. 1. 1. 1. 1. 1.]\n",
      " [1. 1. 1. 1. 1. 1. 1. 1. 1. 1.]\n",
      " [1. 1. 1. 1. 1. 1. 1. 1. 1. 1.]\n",
      " [1. 1. 1. 1. 1. 1. 1. 1. 1. 1.]], shape=(6, 10), dtype=float32)\n",
      "(6, 10)\n",
      "====matrixB=====\n",
      "tf.Tensor(\n",
      "[[1. 1. 1. 1. 1. 1. 1. 1. 1. 1. 1. 1. 1. 1. 1. 1. 1. 1. 1. 1.]\n",
      " [1. 1. 1. 1. 1. 1. 1. 1. 1. 1. 1. 1. 1. 1. 1. 1. 1. 1. 1. 1.]\n",
      " [1. 1. 1. 1. 1. 1. 1. 1. 1. 1. 1. 1. 1. 1. 1. 1. 1. 1. 1. 1.]], shape=(3, 20), dtype=float32)\n",
      "(3, 20)\n",
      "(4, 3, 5)\n"
     ]
    },
    {
     "ename": "InvalidArgumentError",
     "evalue": "Input to reshape is a tensor with 60 values, but the requested shape requires a multiple of 26 [Op:Reshape]",
     "output_type": "error",
     "traceback": [
      "\u001b[1;31m---------------------------------------------------------------------------\u001b[0m",
      "\u001b[1;31mInvalidArgumentError\u001b[0m                      Traceback (most recent call last)",
      "\u001b[1;32m<ipython-input-16-0ab0538053cc>\u001b[0m in \u001b[0;36m<module>\u001b[1;34m\u001b[0m\n\u001b[0;32m     26\u001b[0m \u001b[1;31m# 그러므로 다음은 원소 개수를 유지하면서\u001b[0m\u001b[1;33m\u001b[0m\u001b[1;33m\u001b[0m\u001b[1;33m\u001b[0m\u001b[0m\n\u001b[0;32m     27\u001b[0m \u001b[1;31m# 마지막 차원에 사용 가능한 수가 없기 때문에 에러를 발생합니다.\u001b[0m\u001b[1;33m\u001b[0m\u001b[1;33m\u001b[0m\u001b[1;33m\u001b[0m\u001b[0m\n\u001b[1;32m---> 28\u001b[1;33m \u001b[0myet_another\u001b[0m \u001b[1;33m=\u001b[0m \u001b[0mtf\u001b[0m\u001b[1;33m.\u001b[0m\u001b[0mreshape\u001b[0m\u001b[1;33m(\u001b[0m\u001b[0mmatrixAlt\u001b[0m\u001b[1;33m,\u001b[0m \u001b[1;33m[\u001b[0m\u001b[1;36m13\u001b[0m\u001b[1;33m,\u001b[0m \u001b[1;36m2\u001b[0m\u001b[1;33m,\u001b[0m \u001b[1;33m-\u001b[0m\u001b[1;36m1\u001b[0m\u001b[1;33m]\u001b[0m\u001b[1;33m)\u001b[0m  \u001b[1;31m# 에러!\u001b[0m\u001b[1;33m\u001b[0m\u001b[1;33m\u001b[0m\u001b[0m\n\u001b[0m",
      "\u001b[1;32m~\\anaconda3\\lib\\site-packages\\tensorflow\\python\\util\\dispatch.py\u001b[0m in \u001b[0;36mwrapper\u001b[1;34m(*args, **kwargs)\u001b[0m\n\u001b[0;32m    204\u001b[0m     \u001b[1;34m\"\"\"Call target, and fall back on dispatchers if there is a TypeError.\"\"\"\u001b[0m\u001b[1;33m\u001b[0m\u001b[1;33m\u001b[0m\u001b[0m\n\u001b[0;32m    205\u001b[0m     \u001b[1;32mtry\u001b[0m\u001b[1;33m:\u001b[0m\u001b[1;33m\u001b[0m\u001b[1;33m\u001b[0m\u001b[0m\n\u001b[1;32m--> 206\u001b[1;33m       \u001b[1;32mreturn\u001b[0m \u001b[0mtarget\u001b[0m\u001b[1;33m(\u001b[0m\u001b[1;33m*\u001b[0m\u001b[0margs\u001b[0m\u001b[1;33m,\u001b[0m \u001b[1;33m**\u001b[0m\u001b[0mkwargs\u001b[0m\u001b[1;33m)\u001b[0m\u001b[1;33m\u001b[0m\u001b[1;33m\u001b[0m\u001b[0m\n\u001b[0m\u001b[0;32m    207\u001b[0m     \u001b[1;32mexcept\u001b[0m \u001b[1;33m(\u001b[0m\u001b[0mTypeError\u001b[0m\u001b[1;33m,\u001b[0m \u001b[0mValueError\u001b[0m\u001b[1;33m)\u001b[0m\u001b[1;33m:\u001b[0m\u001b[1;33m\u001b[0m\u001b[1;33m\u001b[0m\u001b[0m\n\u001b[0;32m    208\u001b[0m       \u001b[1;31m# Note: convert_to_eager_tensor currently raises a ValueError, not a\u001b[0m\u001b[1;33m\u001b[0m\u001b[1;33m\u001b[0m\u001b[1;33m\u001b[0m\u001b[0m\n",
      "\u001b[1;32m~\\anaconda3\\lib\\site-packages\\tensorflow\\python\\ops\\array_ops.py\u001b[0m in \u001b[0;36mreshape\u001b[1;34m(tensor, shape, name)\u001b[0m\n\u001b[0;32m    194\u001b[0m     \u001b[0mA\u001b[0m\u001b[0;31m \u001b[0m\u001b[0;31m`\u001b[0m\u001b[0mTensor\u001b[0m\u001b[0;31m`\u001b[0m\u001b[1;33m.\u001b[0m \u001b[0mHas\u001b[0m \u001b[0mthe\u001b[0m \u001b[0msame\u001b[0m \u001b[0mtype\u001b[0m \u001b[1;32mas\u001b[0m\u001b[0;31m \u001b[0m\u001b[0;31m`\u001b[0m\u001b[0mtensor\u001b[0m\u001b[0;31m`\u001b[0m\u001b[1;33m.\u001b[0m\u001b[1;33m\u001b[0m\u001b[1;33m\u001b[0m\u001b[0m\n\u001b[0;32m    195\u001b[0m   \"\"\"\n\u001b[1;32m--> 196\u001b[1;33m   \u001b[0mresult\u001b[0m \u001b[1;33m=\u001b[0m \u001b[0mgen_array_ops\u001b[0m\u001b[1;33m.\u001b[0m\u001b[0mreshape\u001b[0m\u001b[1;33m(\u001b[0m\u001b[0mtensor\u001b[0m\u001b[1;33m,\u001b[0m \u001b[0mshape\u001b[0m\u001b[1;33m,\u001b[0m \u001b[0mname\u001b[0m\u001b[1;33m)\u001b[0m\u001b[1;33m\u001b[0m\u001b[1;33m\u001b[0m\u001b[0m\n\u001b[0m\u001b[0;32m    197\u001b[0m   \u001b[0mtensor_util\u001b[0m\u001b[1;33m.\u001b[0m\u001b[0mmaybe_set_static_shape\u001b[0m\u001b[1;33m(\u001b[0m\u001b[0mresult\u001b[0m\u001b[1;33m,\u001b[0m \u001b[0mshape\u001b[0m\u001b[1;33m)\u001b[0m\u001b[1;33m\u001b[0m\u001b[1;33m\u001b[0m\u001b[0m\n\u001b[0;32m    198\u001b[0m   \u001b[1;32mreturn\u001b[0m \u001b[0mresult\u001b[0m\u001b[1;33m\u001b[0m\u001b[1;33m\u001b[0m\u001b[0m\n",
      "\u001b[1;32m~\\anaconda3\\lib\\site-packages\\tensorflow\\python\\ops\\gen_array_ops.py\u001b[0m in \u001b[0;36mreshape\u001b[1;34m(tensor, shape, name)\u001b[0m\n\u001b[0;32m   8395\u001b[0m       \u001b[1;32mpass\u001b[0m\u001b[1;33m\u001b[0m\u001b[1;33m\u001b[0m\u001b[0m\n\u001b[0;32m   8396\u001b[0m     \u001b[1;32mtry\u001b[0m\u001b[1;33m:\u001b[0m\u001b[1;33m\u001b[0m\u001b[1;33m\u001b[0m\u001b[0m\n\u001b[1;32m-> 8397\u001b[1;33m       return reshape_eager_fallback(\n\u001b[0m\u001b[0;32m   8398\u001b[0m           tensor, shape, name=name, ctx=_ctx)\n\u001b[0;32m   8399\u001b[0m     \u001b[1;32mexcept\u001b[0m \u001b[0m_core\u001b[0m\u001b[1;33m.\u001b[0m\u001b[0m_SymbolicException\u001b[0m\u001b[1;33m:\u001b[0m\u001b[1;33m\u001b[0m\u001b[1;33m\u001b[0m\u001b[0m\n",
      "\u001b[1;32m~\\anaconda3\\lib\\site-packages\\tensorflow\\python\\ops\\gen_array_ops.py\u001b[0m in \u001b[0;36mreshape_eager_fallback\u001b[1;34m(tensor, shape, name, ctx)\u001b[0m\n\u001b[0;32m   8420\u001b[0m   \u001b[0m_inputs_flat\u001b[0m \u001b[1;33m=\u001b[0m \u001b[1;33m[\u001b[0m\u001b[0mtensor\u001b[0m\u001b[1;33m,\u001b[0m \u001b[0mshape\u001b[0m\u001b[1;33m]\u001b[0m\u001b[1;33m\u001b[0m\u001b[1;33m\u001b[0m\u001b[0m\n\u001b[0;32m   8421\u001b[0m   \u001b[0m_attrs\u001b[0m \u001b[1;33m=\u001b[0m \u001b[1;33m(\u001b[0m\u001b[1;34m\"T\"\u001b[0m\u001b[1;33m,\u001b[0m \u001b[0m_attr_T\u001b[0m\u001b[1;33m,\u001b[0m \u001b[1;34m\"Tshape\"\u001b[0m\u001b[1;33m,\u001b[0m \u001b[0m_attr_Tshape\u001b[0m\u001b[1;33m)\u001b[0m\u001b[1;33m\u001b[0m\u001b[1;33m\u001b[0m\u001b[0m\n\u001b[1;32m-> 8422\u001b[1;33m   _result = _execute.execute(b\"Reshape\", 1, inputs=_inputs_flat, attrs=_attrs,\n\u001b[0m\u001b[0;32m   8423\u001b[0m                              ctx=ctx, name=name)\n\u001b[0;32m   8424\u001b[0m   \u001b[1;32mif\u001b[0m \u001b[0m_execute\u001b[0m\u001b[1;33m.\u001b[0m\u001b[0mmust_record_gradient\u001b[0m\u001b[1;33m(\u001b[0m\u001b[1;33m)\u001b[0m\u001b[1;33m:\u001b[0m\u001b[1;33m\u001b[0m\u001b[1;33m\u001b[0m\u001b[0m\n",
      "\u001b[1;32m~\\anaconda3\\lib\\site-packages\\tensorflow\\python\\eager\\execute.py\u001b[0m in \u001b[0;36mquick_execute\u001b[1;34m(op_name, num_outputs, inputs, attrs, ctx, name)\u001b[0m\n\u001b[0;32m     57\u001b[0m   \u001b[1;32mtry\u001b[0m\u001b[1;33m:\u001b[0m\u001b[1;33m\u001b[0m\u001b[1;33m\u001b[0m\u001b[0m\n\u001b[0;32m     58\u001b[0m     \u001b[0mctx\u001b[0m\u001b[1;33m.\u001b[0m\u001b[0mensure_initialized\u001b[0m\u001b[1;33m(\u001b[0m\u001b[1;33m)\u001b[0m\u001b[1;33m\u001b[0m\u001b[1;33m\u001b[0m\u001b[0m\n\u001b[1;32m---> 59\u001b[1;33m     tensors = pywrap_tfe.TFE_Py_Execute(ctx._handle, device_name, op_name,\n\u001b[0m\u001b[0;32m     60\u001b[0m                                         inputs, attrs, num_outputs)\n\u001b[0;32m     61\u001b[0m   \u001b[1;32mexcept\u001b[0m \u001b[0mcore\u001b[0m\u001b[1;33m.\u001b[0m\u001b[0m_NotOkStatusException\u001b[0m \u001b[1;32mas\u001b[0m \u001b[0me\u001b[0m\u001b[1;33m:\u001b[0m\u001b[1;33m\u001b[0m\u001b[1;33m\u001b[0m\u001b[0m\n",
      "\u001b[1;31mInvalidArgumentError\u001b[0m: Input to reshape is a tensor with 60 values, but the requested shape requires a multiple of 26 [Op:Reshape]"
     ]
    }
   ],
   "source": [
    "#60\n",
    "rank_three_tensor = tf.ones([3, 4, 5])\n",
    "print(rank_three_tensor.shape)\n",
    "print(rank_three_tensor)\n",
    "matrix = tf.reshape(rank_three_tensor, [6, 10])  # 기존 내용을 6x10 행렬로\n",
    "                                                 # 형태 변경\n",
    "\n",
    "print('====matrix=====')                                   \n",
    "print(matrix)\n",
    "print(matrix.shape)\n",
    "\n",
    "\n",
    "matrixB = tf.reshape(matrix, [3, -1])  # 기존 내용을 3x20 행렬로 형태 변경\n",
    "                                       # -1은 차원 크기를 계산하여\n",
    "                                       # 자동으로 결정하라는 의미\n",
    "print('====matrixB=====') \n",
    "print(matrixB)\n",
    "print(matrixB.shape)\n",
    "\n",
    "matrixAlt = tf.reshape(matrixB, [4, 3, -1])  # 기존 내용을 4x3x5 텐서로\n",
    "                                             # 형태 변경\n",
    "print(matrixAlt.shape)\n",
    "\n",
    "# 형태가 변경된 텐서의 원소 개수는\n",
    "# 원래 텐서의 원소 개수와 같습니다.\n",
    "# 그러므로 다음은 원소 개수를 유지하면서\n",
    "# 마지막 차원에 사용 가능한 수가 없기 때문에 에러를 발생합니다.\n",
    "yet_another = tf.reshape(matrixAlt, [13, 2, -1])  # 에러!"
   ]
  },
  {
   "cell_type": "markdown",
   "metadata": {
    "id": "pR3pIeWxiRac"
   },
   "source": [
    "## 자료형"
   ]
  },
  {
   "cell_type": "code",
   "execution_count": 17,
   "metadata": {
    "colab": {
     "base_uri": "https://localhost:8080/"
    },
    "executionInfo": {
     "elapsed": 527,
     "status": "ok",
     "timestamp": 1610700655505,
     "user": {
      "displayName": "­김대희[컴퓨터공학과]",
      "photoUrl": "",
      "userId": "16036391449035610585"
     },
     "user_tz": -540
    },
    "id": "ZcqMkMcOhqyU",
    "outputId": "f36b028e-ee79-4422-a3c4-7ec451fae7f5"
   },
   "outputs": [
    {
     "name": "stdout",
     "output_type": "stream",
     "text": [
      "tf.Tensor([1 2 3], shape=(3,), dtype=int32)\n"
     ]
    },
    {
     "data": {
      "text/plain": [
       "<tf.Tensor: shape=(3,), dtype=float32, numpy=array([1., 2., 3.], dtype=float32)>"
      ]
     },
     "execution_count": 17,
     "metadata": {},
     "output_type": "execute_result"
    }
   ],
   "source": [
    "# 정수형 텐서를 실수형으로 변환.\n",
    "a=tf.constant([1,2,3])\n",
    "print(a)\n",
    "\n",
    "float_tensor = tf.cast(tf.constant([1, 2, 3]), dtype=tf.float32)\n",
    "float_tensor"
   ]
  }
 ],
 "metadata": {
  "colab": {
   "collapsed_sections": [],
   "name": "Tensorflow_문법실습.ipynb",
   "provenance": [
    {
     "file_id": "19G6TXnOKDPFml5YcULmrdCun7eSUn6qS",
     "timestamp": 1610676457293
    },
    {
     "file_id": "15kCaDp1wlxVabUgE4hgWB6wliryTO30K",
     "timestamp": 1609754440612
    }
   ],
   "toc_visible": true
  },
  "kernelspec": {
   "display_name": "Python 3",
   "language": "python",
   "name": "python3"
  },
  "language_info": {
   "codemirror_mode": {
    "name": "ipython",
    "version": 3
   },
   "file_extension": ".py",
   "mimetype": "text/x-python",
   "name": "python",
   "nbconvert_exporter": "python",
   "pygments_lexer": "ipython3",
   "version": "3.8.8"
  }
 },
 "nbformat": 4,
 "nbformat_minor": 1
}
