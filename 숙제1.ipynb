{
 "cells": [
  {
   "cell_type": "markdown",
   "id": "60cfb261",
   "metadata": {},
   "source": [
    "# 1번"
   ]
  },
  {
   "cell_type": "markdown",
   "id": "3a2a279a",
   "metadata": {},
   "source": [
    "### (1)"
   ]
  },
  {
   "cell_type": "code",
   "execution_count": 1,
   "id": "8c8a46da",
   "metadata": {},
   "outputs": [],
   "source": [
    "import torch\n",
    "import numpy as np"
   ]
  },
  {
   "cell_type": "code",
   "execution_count": 3,
   "id": "25329625",
   "metadata": {},
   "outputs": [],
   "source": [
    "data = [[1,2],[3,4]]\n",
    "x_data = torch.tensor(data)"
   ]
  },
  {
   "cell_type": "code",
   "execution_count": 4,
   "id": "7711af44",
   "metadata": {},
   "outputs": [],
   "source": [
    "np_array = np.array(data)\n",
    "x_np = torch.from_numpy(np_array)"
   ]
  },
  {
   "cell_type": "code",
   "execution_count": 5,
   "id": "110269fd",
   "metadata": {},
   "outputs": [
    {
     "name": "stdout",
     "output_type": "stream",
     "text": [
      "Ones Tensor: \n",
      " tensor([[1, 1],\n",
      "        [1, 1]]) \n",
      "\n",
      "Random Tensor: \n",
      " tensor([[0.3264, 0.1621],\n",
      "        [0.1849, 0.0373]]) \n",
      "\n"
     ]
    }
   ],
   "source": [
    "x_ones = torch.ones_like(x_data)\n",
    "print(f'Ones Tensor: \\n {x_ones} \\n')\n",
    "x_rand = torch.rand_like(x_data,dtype=torch.float)\n",
    "print(f'Random Tensor: \\n {x_rand} \\n')"
   ]
  },
  {
   "cell_type": "code",
   "execution_count": 6,
   "id": "46aadb23",
   "metadata": {},
   "outputs": [
    {
     "name": "stdout",
     "output_type": "stream",
     "text": [
      "Random Tensor: \n",
      " tensor([[0.5190, 0.1579, 0.5466],\n",
      "        [0.9668, 0.2596, 0.5950]]) \n",
      "\n",
      "Ones Tensor: \n",
      " tensor([[1., 1., 1.],\n",
      "        [1., 1., 1.]]) \n",
      "\n",
      "Zeros Tensor: \n",
      " tensor([[0., 0., 0.],\n",
      "        [0., 0., 0.]]) \n",
      "\n"
     ]
    }
   ],
   "source": [
    "shape = (2,3,)\n",
    "rand_tensor = torch.rand(shape)\n",
    "ones_tensor = torch.ones(shape)\n",
    "zeros_tensor = torch.zeros(shape)\n",
    "print(f'Random Tensor: \\n {rand_tensor} \\n')\n",
    "print(f'Ones Tensor: \\n {ones_tensor} \\n')\n",
    "print(f'Zeros Tensor: \\n {zeros_tensor} \\n')"
   ]
  },
  {
   "cell_type": "code",
   "execution_count": 7,
   "id": "0bd6d355",
   "metadata": {},
   "outputs": [
    {
     "name": "stdout",
     "output_type": "stream",
     "text": [
      "Shape of tensor: torch.Size([3, 4])\n",
      "Datatype of tensor: torch.float32\n",
      "Device tensor is stored on: cpu\n"
     ]
    }
   ],
   "source": [
    "tensor = torch.rand(3,4)\n",
    "print(f'Shape of tensor: {tensor.shape}')\n",
    "print(f'Datatype of tensor: {tensor.dtype}')\n",
    "print(f'Device tensor is stored on: {tensor.device}')"
   ]
  },
  {
   "cell_type": "code",
   "execution_count": 8,
   "id": "b50728a2",
   "metadata": {},
   "outputs": [],
   "source": [
    "if torch.cuda.is_available():\n",
    "    tensor = tensor.to('cuda')"
   ]
  },
  {
   "cell_type": "code",
   "execution_count": 9,
   "id": "24c41bc9",
   "metadata": {},
   "outputs": [
    {
     "name": "stdout",
     "output_type": "stream",
     "text": [
      "tensor([[1., 0., 1., 1.],\n",
      "        [1., 0., 1., 1.],\n",
      "        [1., 0., 1., 1.],\n",
      "        [1., 0., 1., 1.]])\n"
     ]
    }
   ],
   "source": [
    "tensor = torch.ones(4,4)\n",
    "tensor[:,1] = 0\n",
    "print(tensor)"
   ]
  },
  {
   "cell_type": "code",
   "execution_count": 10,
   "id": "691126cf",
   "metadata": {},
   "outputs": [
    {
     "name": "stdout",
     "output_type": "stream",
     "text": [
      "tensor([[1., 0., 1., 1., 1., 0., 1., 1., 1., 0., 1., 1.],\n",
      "        [1., 0., 1., 1., 1., 0., 1., 1., 1., 0., 1., 1.],\n",
      "        [1., 0., 1., 1., 1., 0., 1., 1., 1., 0., 1., 1.],\n",
      "        [1., 0., 1., 1., 1., 0., 1., 1., 1., 0., 1., 1.]])\n"
     ]
    }
   ],
   "source": [
    "t1 = torch.cat([tensor,tensor,tensor],dim=1)\n",
    "print(t1)"
   ]
  },
  {
   "cell_type": "code",
   "execution_count": 11,
   "id": "34c5b005",
   "metadata": {},
   "outputs": [
    {
     "name": "stdout",
     "output_type": "stream",
     "text": [
      "tensor.mul(tensor) \n",
      " tensor([[1., 0., 1., 1.],\n",
      "        [1., 0., 1., 1.],\n",
      "        [1., 0., 1., 1.],\n",
      "        [1., 0., 1., 1.]]) \n",
      "\n",
      "tensor * tensor \n",
      " tensor([[1., 0., 1., 1.],\n",
      "        [1., 0., 1., 1.],\n",
      "        [1., 0., 1., 1.],\n",
      "        [1., 0., 1., 1.]])\n"
     ]
    }
   ],
   "source": [
    "print(f'tensor.mul(tensor) \\n {tensor.mul(tensor)} \\n')\n",
    "print(f'tensor * tensor \\n {tensor*tensor}')"
   ]
  },
  {
   "cell_type": "code",
   "execution_count": 12,
   "id": "e0c04b46",
   "metadata": {},
   "outputs": [
    {
     "name": "stdout",
     "output_type": "stream",
     "text": [
      "tensor.matmul(tensor.T) \n",
      " tensor([[3., 3., 3., 3.],\n",
      "        [3., 3., 3., 3.],\n",
      "        [3., 3., 3., 3.],\n",
      "        [3., 3., 3., 3.]]) \n",
      "\n",
      "tensor @ tensor.T \n",
      " tensor([[3., 3., 3., 3.],\n",
      "        [3., 3., 3., 3.],\n",
      "        [3., 3., 3., 3.],\n",
      "        [3., 3., 3., 3.]])\n"
     ]
    }
   ],
   "source": [
    "print(f'tensor.matmul(tensor.T) \\n {tensor.matmul(tensor.T)} \\n')\n",
    "print(f'tensor @ tensor.T \\n {tensor @ tensor.T}')"
   ]
  },
  {
   "cell_type": "code",
   "execution_count": 13,
   "id": "7b27c70c",
   "metadata": {},
   "outputs": [
    {
     "name": "stdout",
     "output_type": "stream",
     "text": [
      "tensor([[1., 0., 1., 1.],\n",
      "        [1., 0., 1., 1.],\n",
      "        [1., 0., 1., 1.],\n",
      "        [1., 0., 1., 1.]]) \n",
      "\n",
      "tensor([[6., 5., 6., 6.],\n",
      "        [6., 5., 6., 6.],\n",
      "        [6., 5., 6., 6.],\n",
      "        [6., 5., 6., 6.]])\n"
     ]
    }
   ],
   "source": [
    "print(tensor, '\\n')\n",
    "tensor.add_(5)\n",
    "print(tensor)"
   ]
  },
  {
   "cell_type": "code",
   "execution_count": 14,
   "id": "c453e0d8",
   "metadata": {},
   "outputs": [
    {
     "name": "stdout",
     "output_type": "stream",
     "text": [
      "t: tensor([1., 1., 1., 1., 1.])\n",
      "n: [1. 1. 1. 1. 1.]\n"
     ]
    }
   ],
   "source": [
    "t = torch.ones(5)\n",
    "print(f't: {t}')\n",
    "n = t.numpy()\n",
    "print(f'n: {n}')"
   ]
  },
  {
   "cell_type": "code",
   "execution_count": 15,
   "id": "67ec683e",
   "metadata": {},
   "outputs": [
    {
     "name": "stdout",
     "output_type": "stream",
     "text": [
      "t: tensor([2., 2., 2., 2., 2.])\n",
      "n: [2. 2. 2. 2. 2.]\n"
     ]
    }
   ],
   "source": [
    "t.add_(1)\n",
    "print(f't: {t}')\n",
    "print(f'n: {n}')"
   ]
  },
  {
   "cell_type": "code",
   "execution_count": 16,
   "id": "1f6c3769",
   "metadata": {},
   "outputs": [],
   "source": [
    "n = np.ones(5)\n",
    "t = torch.from_numpy(n)"
   ]
  },
  {
   "cell_type": "code",
   "execution_count": 17,
   "id": "c0a46897",
   "metadata": {},
   "outputs": [
    {
     "name": "stdout",
     "output_type": "stream",
     "text": [
      "t: tensor([2., 2., 2., 2., 2.], dtype=torch.float64)\n",
      "n: [2. 2. 2. 2. 2.]\n"
     ]
    }
   ],
   "source": [
    "np.add(n,1,out=n)\n",
    "print(f't: {t}')\n",
    "print(f'n: {n}')"
   ]
  },
  {
   "cell_type": "markdown",
   "id": "1cb536aa",
   "metadata": {},
   "source": [
    "------------------------"
   ]
  },
  {
   "cell_type": "code",
   "execution_count": 18,
   "id": "9dc375ea",
   "metadata": {},
   "outputs": [
    {
     "name": "stderr",
     "output_type": "stream",
     "text": [
      "Downloading: \"https://download.pytorch.org/models/resnet18-f37072fd.pth\" to C:\\Users\\bhfux/.cache\\torch\\hub\\checkpoints\\resnet18-f37072fd.pth\n"
     ]
    },
    {
     "data": {
      "application/vnd.jupyter.widget-view+json": {
       "model_id": "fdd496794ae84677adc8e5ac40f8a893",
       "version_major": 2,
       "version_minor": 0
      },
      "text/plain": [
       "  0%|          | 0.00/44.7M [00:00<?, ?B/s]"
      ]
     },
     "metadata": {},
     "output_type": "display_data"
    }
   ],
   "source": [
    "import torch, torchvision\n",
    "model = torchvision.models.resnet18(pretrained=True)\n",
    "data = torch.rand(1,3,64,64)\n",
    "labels = torch.rand(1,1000)"
   ]
  },
  {
   "cell_type": "code",
   "execution_count": 19,
   "id": "5fb63630",
   "metadata": {},
   "outputs": [],
   "source": [
    "prediction = model(data)"
   ]
  },
  {
   "cell_type": "code",
   "execution_count": 20,
   "id": "434ac296",
   "metadata": {},
   "outputs": [],
   "source": [
    "loss = (prediction - labels).sum()\n",
    "loss.backward()"
   ]
  },
  {
   "cell_type": "code",
   "execution_count": 21,
   "id": "94ff6a72",
   "metadata": {},
   "outputs": [],
   "source": [
    "optim = torch.optim.SGD(model.parameters(),lr=1e-2,momentum=0.9)"
   ]
  },
  {
   "cell_type": "code",
   "execution_count": 22,
   "id": "596d0b97",
   "metadata": {},
   "outputs": [],
   "source": [
    "optim.step()"
   ]
  },
  {
   "cell_type": "code",
   "execution_count": 23,
   "id": "7a67f55f",
   "metadata": {},
   "outputs": [],
   "source": [
    "import torch\n",
    "a = torch.tensor([2.,3.],requires_grad=True)\n",
    "b = torch.tensor([6.,4.],requires_grad=True)"
   ]
  },
  {
   "cell_type": "code",
   "execution_count": 24,
   "id": "39535e8a",
   "metadata": {},
   "outputs": [],
   "source": [
    "Q = 3*a**3 - b**2"
   ]
  },
  {
   "cell_type": "code",
   "execution_count": 26,
   "id": "f054f1f9",
   "metadata": {},
   "outputs": [],
   "source": [
    "external_grad = torch.tensor([1.,1.])\n",
    "Q.backward(gradient=external_grad)"
   ]
  },
  {
   "cell_type": "code",
   "execution_count": 27,
   "id": "f36eb09a",
   "metadata": {},
   "outputs": [
    {
     "name": "stdout",
     "output_type": "stream",
     "text": [
      "tensor([True, True])\n",
      "tensor([True, True])\n"
     ]
    }
   ],
   "source": [
    "print(9*a**2 == a.grad)\n",
    "print(-2*b == b.grad)"
   ]
  },
  {
   "cell_type": "code",
   "execution_count": 29,
   "id": "99acd65a",
   "metadata": {},
   "outputs": [
    {
     "name": "stdout",
     "output_type": "stream",
     "text": [
      "Does 'a' require gradients? : False\n",
      "Does 'b' require gradients? : True\n"
     ]
    }
   ],
   "source": [
    "x = torch.rand(5,5)\n",
    "y = torch.rand(5,5)\n",
    "z = torch.rand((5,5),requires_grad=True)\n",
    "a = x+y\n",
    "print(f\"Does 'a' require gradients? : {a.requires_grad}\")\n",
    "b = x+z\n",
    "print(f\"Does 'b' require gradients? : {b.requires_grad}\")"
   ]
  },
  {
   "cell_type": "code",
   "execution_count": 30,
   "id": "643df5ce",
   "metadata": {},
   "outputs": [],
   "source": [
    "from torch import nn, optim\n",
    "model = torchvision.models.resnet18(pretrained=True)\n",
    "for param in model.parameters():\n",
    "    param.requires_grad = False"
   ]
  },
  {
   "cell_type": "code",
   "execution_count": 31,
   "id": "8c471f26",
   "metadata": {},
   "outputs": [],
   "source": [
    "model.fc = nn.Linear(512,10)"
   ]
  },
  {
   "cell_type": "code",
   "execution_count": 32,
   "id": "d80fcc29",
   "metadata": {},
   "outputs": [],
   "source": [
    "optimizer = optim.SGD(model.parameters(), lr=1e-2,momentum=0.9)"
   ]
  },
  {
   "cell_type": "markdown",
   "id": "2ea5449e",
   "metadata": {},
   "source": [
    "### (2)"
   ]
  },
  {
   "cell_type": "code",
   "execution_count": 82,
   "id": "a91ff590",
   "metadata": {
    "collapsed": true
   },
   "outputs": [
    {
     "ename": "TypeError",
     "evalue": "rand() received an invalid combination of arguments - got (), but expected one of:\n * (tuple of ints size, *, torch.Generator generator, tuple of names names, torch.dtype dtype, torch.layout layout, torch.device device, bool pin_memory, bool requires_grad)\n * (tuple of ints size, *, torch.Generator generator, Tensor out, torch.dtype dtype, torch.layout layout, torch.device device, bool pin_memory, bool requires_grad)\n * (tuple of ints size, *, Tensor out, torch.dtype dtype, torch.layout layout, torch.device device, bool pin_memory, bool requires_grad)\n * (tuple of ints size, *, tuple of names names, torch.dtype dtype, torch.layout layout, torch.device device, bool pin_memory, bool requires_grad)\n",
     "output_type": "error",
     "traceback": [
      "\u001b[1;31m---------------------------------------------------------------------------\u001b[0m",
      "\u001b[1;31mTypeError\u001b[0m                                 Traceback (most recent call last)",
      "\u001b[1;32m<ipython-input-82-7566a625a9bd>\u001b[0m in \u001b[0;36m<module>\u001b[1;34m\u001b[0m\n\u001b[1;32m----> 1\u001b[1;33m \u001b[0mtorch\u001b[0m\u001b[1;33m.\u001b[0m\u001b[0mrand\u001b[0m\u001b[1;33m(\u001b[0m\u001b[1;33m)\u001b[0m\u001b[1;33m\u001b[0m\u001b[1;33m\u001b[0m\u001b[0m\n\u001b[0m",
      "\u001b[1;31mTypeError\u001b[0m: rand() received an invalid combination of arguments - got (), but expected one of:\n * (tuple of ints size, *, torch.Generator generator, tuple of names names, torch.dtype dtype, torch.layout layout, torch.device device, bool pin_memory, bool requires_grad)\n * (tuple of ints size, *, torch.Generator generator, Tensor out, torch.dtype dtype, torch.layout layout, torch.device device, bool pin_memory, bool requires_grad)\n * (tuple of ints size, *, Tensor out, torch.dtype dtype, torch.layout layout, torch.device device, bool pin_memory, bool requires_grad)\n * (tuple of ints size, *, tuple of names names, torch.dtype dtype, torch.layout layout, torch.device device, bool pin_memory, bool requires_grad)\n"
     ]
    }
   ],
   "source": [
    "torch.rand()"
   ]
  },
  {
   "cell_type": "code",
   "execution_count": null,
   "id": "68ee01af",
   "metadata": {},
   "outputs": [],
   "source": [
    "torch.zeros()"
   ]
  },
  {
   "cell_type": "code",
   "execution_count": null,
   "id": "c3e6565d",
   "metadata": {},
   "outputs": [],
   "source": [
    "torch.tensor()"
   ]
  },
  {
   "cell_type": "code",
   "execution_count": null,
   "id": "1ed1c7bc",
   "metadata": {},
   "outputs": [],
   "source": [
    "torch.from_numpy()"
   ]
  },
  {
   "cell_type": "code",
   "execution_count": null,
   "id": "af05d4d6",
   "metadata": {},
   "outputs": [],
   "source": [
    "torch.as_tensor()"
   ]
  },
  {
   "cell_type": "code",
   "execution_count": null,
   "id": "996b9f67",
   "metadata": {},
   "outputs": [],
   "source": [
    "torch.cat()"
   ]
  },
  {
   "cell_type": "code",
   "execution_count": null,
   "id": "7f6fbf73",
   "metadata": {},
   "outputs": [],
   "source": [
    "torch.stack()"
   ]
  },
  {
   "cell_type": "code",
   "execution_count": null,
   "id": "2d32e297",
   "metadata": {},
   "outputs": [],
   "source": [
    "torch.eye()"
   ]
  },
  {
   "cell_type": "code",
   "execution_count": null,
   "id": "5f5297dd",
   "metadata": {},
   "outputs": [],
   "source": [
    "requires_grad=True"
   ]
  },
  {
   "cell_type": "code",
   "execution_count": null,
   "id": "96e77659",
   "metadata": {},
   "outputs": [],
   "source": [
    "torch.autograd.backward()"
   ]
  },
  {
   "cell_type": "code",
   "execution_count": null,
   "id": "fe351133",
   "metadata": {},
   "outputs": [],
   "source": [
    "grad_outputs"
   ]
  },
  {
   "cell_type": "code",
   "execution_count": null,
   "id": "00800740",
   "metadata": {},
   "outputs": [],
   "source": [
    "torch.norm()"
   ]
  },
  {
   "cell_type": "code",
   "execution_count": null,
   "id": "8d462850",
   "metadata": {},
   "outputs": [],
   "source": [
    "torch.no_grad()"
   ]
  },
  {
   "cell_type": "code",
   "execution_count": null,
   "id": "431c205e",
   "metadata": {},
   "outputs": [],
   "source": [
    "torch.Tensor.detach()"
   ]
  },
  {
   "cell_type": "markdown",
   "id": "0a5ed60e",
   "metadata": {},
   "source": [
    "### (3)"
   ]
  },
  {
   "cell_type": "code",
   "execution_count": 33,
   "id": "dffcab5f",
   "metadata": {},
   "outputs": [
    {
     "data": {
      "text/plain": [
       "tensor([[0.5153, 0.3073, 0.1048, 0.4442],\n",
       "        [0.6861, 0.0112, 0.7983, 0.5637],\n",
       "        [0.2198, 0.4055, 0.8145, 0.0699],\n",
       "        [0.6258, 0.0925, 0.4199, 0.3237],\n",
       "        [0.3780, 0.0193, 0.2142, 0.0856]])"
      ]
     },
     "execution_count": 33,
     "metadata": {},
     "output_type": "execute_result"
    }
   ],
   "source": [
    "x = torch.rand(5,4)\n",
    "x"
   ]
  },
  {
   "cell_type": "code",
   "execution_count": 34,
   "id": "8403f597",
   "metadata": {},
   "outputs": [
    {
     "data": {
      "text/plain": [
       "torch.Size([5, 4])"
      ]
     },
     "execution_count": 34,
     "metadata": {},
     "output_type": "execute_result"
    }
   ],
   "source": [
    "x.shape"
   ]
  },
  {
   "cell_type": "code",
   "execution_count": 36,
   "id": "fc7a8dfe",
   "metadata": {},
   "outputs": [
    {
     "data": {
      "text/plain": [
       "tensor([0.1048, 0.7983, 0.8145, 0.4199, 0.2142])"
      ]
     },
     "execution_count": 36,
     "metadata": {},
     "output_type": "execute_result"
    }
   ],
   "source": [
    "x[:,2]"
   ]
  },
  {
   "cell_type": "code",
   "execution_count": 39,
   "id": "7aebc02e",
   "metadata": {},
   "outputs": [
    {
     "data": {
      "text/plain": [
       "tensor([[0.5153, 0.3073, 0.1048, 0.4442, 0.6861, 0.0112, 0.7983, 0.5637, 0.2198,\n",
       "         0.4055],\n",
       "        [0.8145, 0.0699, 0.6258, 0.0925, 0.4199, 0.3237, 0.3780, 0.0193, 0.2142,\n",
       "         0.0856]])"
      ]
     },
     "execution_count": 39,
     "metadata": {},
     "output_type": "execute_result"
    }
   ],
   "source": [
    "x.view(2,10)"
   ]
  },
  {
   "cell_type": "code",
   "execution_count": 41,
   "id": "900e32ad",
   "metadata": {},
   "outputs": [],
   "source": [
    "x = x.to('cuda')"
   ]
  },
  {
   "cell_type": "markdown",
   "id": "4552917d",
   "metadata": {},
   "source": [
    "### (4)"
   ]
  },
  {
   "cell_type": "code",
   "execution_count": 107,
   "id": "8c9edd29",
   "metadata": {},
   "outputs": [
    {
     "data": {
      "text/plain": [
       "1.2509640061092462"
      ]
     },
     "execution_count": 107,
     "metadata": {},
     "output_type": "execute_result"
    }
   ],
   "source": [
    "pred_y = [0.57,0.05,0.14,0.10,0.14]\n",
    "y = [1,0,0,0,0]\n",
    "\n",
    "import numpy as np\n",
    "\n",
    "def cross_entropy_loss(y,pred_y):\n",
    "    delta = 1e-7\n",
    "    result = -np.sum(pred_y*np.log(pred_y+delta))\n",
    "    return result\n",
    "\n",
    "cross_entropy_loss(np.array(y),np.array(pred_y))"
   ]
  },
  {
   "cell_type": "code",
   "execution_count": 110,
   "id": "5f654432",
   "metadata": {},
   "outputs": [
    {
     "data": {
      "text/plain": [
       "tensor(1.2586)"
      ]
     },
     "execution_count": 110,
     "metadata": {},
     "output_type": "execute_result"
    }
   ],
   "source": [
    "import torch\n",
    "import torch.nn as nn\n",
    "\n",
    "pred_y = torch.Tensor([[0.57,0.05,0.14,0.10,0.14]])\n",
    "y = torch.Tensor([[1,0,0,0,0]])\n",
    "y = torch.argmax(y,dim=1)\n",
    "\n",
    "loss_func = nn.CrossEntropyLoss()\n",
    "loss_func(pred_y,y)"
   ]
  },
  {
   "cell_type": "markdown",
   "id": "7bef98dc",
   "metadata": {},
   "source": [
    "# 2번"
   ]
  },
  {
   "cell_type": "markdown",
   "id": "dbde7e89",
   "metadata": {},
   "source": [
    "### (1)"
   ]
  },
  {
   "cell_type": "code",
   "execution_count": 43,
   "id": "52b4ed6a",
   "metadata": {},
   "outputs": [
    {
     "data": {
      "image/png": "[encoded data removed]",
      "text/plain": [
       "<Figure size 432x288 with 1 Axes>"
      ]
     },
     "metadata": {
      "needs_background": "light"
     },
     "output_type": "display_data"
    }
   ],
   "source": [
    "import numpy as np\n",
    "%matplotlib inline\n",
    "import matplotlib\n",
    "import matplotlib.pyplot as plt\n",
    "\n",
    "X = 2*np.random.rand(100,1)\n",
    "y = 4 + 3*X + np.random.randn(100,1)\n",
    "plt.plot(X,y,'b.')\n",
    "plt.xlabel('$x_1$',fontsize=18)\n",
    "plt.axis([0,2,0,15])\n",
    "plt.show()"
   ]
  },
  {
   "cell_type": "markdown",
   "id": "3d3607f4",
   "metadata": {},
   "source": [
    "### (2)"
   ]
  },
  {
   "cell_type": "code",
   "execution_count": 45,
   "id": "ec99ecc6",
   "metadata": {},
   "outputs": [
    {
     "data": {
      "text/plain": [
       "array([[4.06075555],\n",
       "       [3.04684569]])"
      ]
     },
     "execution_count": 45,
     "metadata": {},
     "output_type": "execute_result"
    }
   ],
   "source": [
    "X_b = np.c_[np.ones((100,1)),X]\n",
    "theta_best = np.linalg.inv(X_b.T.dot(X_b)).dot(X_b.T).dot(y)\n",
    "theta_best"
   ]
  },
  {
   "cell_type": "markdown",
   "id": "8d971830",
   "metadata": {},
   "source": [
    "### (3)"
   ]
  },
  {
   "cell_type": "code",
   "execution_count": 47,
   "id": "5338e475",
   "metadata": {},
   "outputs": [
    {
     "data": {
      "text/plain": [
       "array([[ 4.06075555],\n",
       "       [10.15444694]])"
      ]
     },
     "execution_count": 47,
     "metadata": {},
     "output_type": "execute_result"
    }
   ],
   "source": [
    "X_new = np.array([[0],[2]])\n",
    "X_new_b = np.c_[np.ones((2,1)),X_new]\n",
    "y_predict = X_new_b.dot(theta_best)\n",
    "y_predict"
   ]
  },
  {
   "cell_type": "markdown",
   "id": "2bd571cb",
   "metadata": {},
   "source": [
    "### (4)"
   ]
  },
  {
   "cell_type": "code",
   "execution_count": 50,
   "id": "179a4526",
   "metadata": {},
   "outputs": [
    {
     "data": {
      "image/png": "[encoded data removed]",
      "text/plain": [
       "<Figure size 432x288 with 1 Axes>"
      ]
     },
     "metadata": {
      "needs_background": "light"
     },
     "output_type": "display_data"
    }
   ],
   "source": [
    "plt.plot(X_new,y_predict,'r-',linewidth=2,label='prediction')\n",
    "plt.plot(X,y,'b.')\n",
    "plt.xlabel('$x_1$',fontsize=18)\n",
    "plt.ylabel('$y$',rotation=0,fontsize=18)\n",
    "plt.legend(loc='upper left',fontsize=14)\n",
    "plt.axis([0,2,0,15])\n",
    "plt.show()"
   ]
  },
  {
   "cell_type": "markdown",
   "id": "1008f9eb",
   "metadata": {},
   "source": [
    "### (5)"
   ]
  },
  {
   "cell_type": "code",
   "execution_count": 52,
   "id": "e13cf0ac",
   "metadata": {},
   "outputs": [
    {
     "name": "stdout",
     "output_type": "stream",
     "text": [
      "[4.06075555] [[3.04684569]]\n"
     ]
    }
   ],
   "source": [
    "from sklearn.linear_model import LinearRegression\n",
    "lin_reg = LinearRegression()\n",
    "lin_reg.fit(X,y)\n",
    "print(lin_reg.intercept_,lin_reg.coef_)"
   ]
  },
  {
   "cell_type": "markdown",
   "id": "225d1812",
   "metadata": {},
   "source": [
    "### (6)"
   ]
  },
  {
   "cell_type": "code",
   "execution_count": 53,
   "id": "cca480f2",
   "metadata": {},
   "outputs": [
    {
     "data": {
      "text/plain": [
       "array([[ 4.06075555],\n",
       "       [10.15444694]])"
      ]
     },
     "execution_count": 53,
     "metadata": {},
     "output_type": "execute_result"
    }
   ],
   "source": [
    "lin_reg.predict(X_new)"
   ]
  },
  {
   "cell_type": "markdown",
   "id": "98708d75",
   "metadata": {},
   "source": [
    "### (7)"
   ]
  },
  {
   "cell_type": "code",
   "execution_count": 54,
   "id": "08d8f266",
   "metadata": {},
   "outputs": [
    {
     "data": {
      "text/plain": [
       "array([[4.06075555],\n",
       "       [3.04684569]])"
      ]
     },
     "execution_count": 54,
     "metadata": {},
     "output_type": "execute_result"
    }
   ],
   "source": [
    "theta_best_svd, residuals, rank, s = np.linalg.lstsq(X_b,y,rcond=1e-6)\n",
    "theta_best_svd"
   ]
  },
  {
   "cell_type": "markdown",
   "id": "827d55db",
   "metadata": {},
   "source": [
    "### (8)"
   ]
  },
  {
   "cell_type": "code",
   "execution_count": 55,
   "id": "a5263a3a",
   "metadata": {},
   "outputs": [
    {
     "data": {
      "text/plain": [
       "array([[4.06075555],\n",
       "       [3.04684569]])"
      ]
     },
     "execution_count": 55,
     "metadata": {},
     "output_type": "execute_result"
    }
   ],
   "source": [
    "np.linalg.pinv(X_b).dot(y)"
   ]
  },
  {
   "cell_type": "markdown",
   "id": "6720e754",
   "metadata": {},
   "source": [
    "### (9)"
   ]
  },
  {
   "cell_type": "code",
   "execution_count": 56,
   "id": "8014fe6d",
   "metadata": {},
   "outputs": [
    {
     "data": {
      "text/plain": [
       "array([[4.06075555],\n",
       "       [3.04684569]])"
      ]
     },
     "execution_count": 56,
     "metadata": {},
     "output_type": "execute_result"
    }
   ],
   "source": [
    "eta = 0.1\n",
    "n_iterations = 1000\n",
    "m = 100\n",
    "theta = np.random.randn(2,1)\n",
    "for iteration in range(n_iterations):\n",
    "    gradients = 2/m*X_b.T.dot(X_b.dot(theta)-y)\n",
    "    theta = theta - eta * gradients\n",
    "theta"
   ]
  },
  {
   "cell_type": "markdown",
   "id": "e80294d9",
   "metadata": {},
   "source": [
    "### (10)"
   ]
  },
  {
   "cell_type": "code",
   "execution_count": 57,
   "id": "315d2bee",
   "metadata": {},
   "outputs": [
    {
     "data": {
      "text/plain": [
       "array([[ 4.06075555],\n",
       "       [10.15444694]])"
      ]
     },
     "execution_count": 57,
     "metadata": {},
     "output_type": "execute_result"
    }
   ],
   "source": [
    "X_new_b.dot(theta)"
   ]
  },
  {
   "cell_type": "markdown",
   "id": "03e0fe71",
   "metadata": {},
   "source": [
    "### (11)"
   ]
  },
  {
   "cell_type": "code",
   "execution_count": 59,
   "id": "64296fd4",
   "metadata": {},
   "outputs": [
    {
     "data": {
      "image/png": "[encoded data removed]",
      "text/plain": [
       "<Figure size 720x288 with 3 Axes>"
      ]
     },
     "metadata": {
      "needs_background": "light"
     },
     "output_type": "display_data"
    }
   ],
   "source": [
    "theta_path_bgd = []\n",
    "def plot_gradient_descent(theta, eta, theta_path=None):\n",
    "    m = len(X_b)\n",
    "    plt.plot(X,y,'b.')\n",
    "    n_iterations = 1000\n",
    "    for iteration in range(n_iterations):\n",
    "        if iteration < 10:\n",
    "            y_predict = X_new_b.dot(theta)\n",
    "            style = 'b-' if iteration > 0 else 'r--'\n",
    "            plt.plot(X_new,y_predict,style)\n",
    "        gradients = 2/m*X_b.T.dot(X_b.dot(theta)-y)\n",
    "        theta = theta - eta *gradients\n",
    "        if theta_path is not None:\n",
    "            theta_path.append(theta)\n",
    "    plt.xlabel('$x_1$',fontsize=18)\n",
    "    plt.axis([0,2,0,15])\n",
    "    plt.title(r'$\\eta = {}$'.format(eta),fontsize=16)\n",
    "np.random.seed(42)\n",
    "theta = np.random.randn(2,1)\n",
    "plt.figure(figsize=(10,4))\n",
    "plt.subplot(131)\n",
    "plot_gradient_descent(theta,eta=0.02)\n",
    "plt.ylabel('$y$',rotation=0,fontsize=18)\n",
    "plt.subplot(132)\n",
    "plot_gradient_descent(theta,eta=0.1,theta_path=theta_path_bgd)\n",
    "plt.subplot(133)\n",
    "plot_gradient_descent(theta,eta=0.5)\n",
    "plt.show()"
   ]
  },
  {
   "cell_type": "markdown",
   "id": "32259b2b",
   "metadata": {},
   "source": [
    "### (12)"
   ]
  },
  {
   "cell_type": "code",
   "execution_count": 60,
   "id": "8273de25",
   "metadata": {},
   "outputs": [
    {
     "data": {
      "image/png": "[encoded data removed]",
      "text/plain": [
       "<Figure size 432x288 with 1 Axes>"
      ]
     },
     "metadata": {
      "needs_background": "light"
     },
     "output_type": "display_data"
    }
   ],
   "source": [
    "theta_path_sgd = []\n",
    "m = len(X_b)\n",
    "np.random.seed(42)\n",
    "n_epochs = 50\n",
    "t0, t1 = 5, 50\n",
    "def learning_schedule(t):\n",
    "    return t0/(t+t1)\n",
    "theta = np.random.randn(2,1)\n",
    "for epoch in range(n_epochs):\n",
    "    for i in range(m):\n",
    "        if epoch == 0 and i <20:\n",
    "            y_predict = X_new_b.dot(theta)\n",
    "            style = 'b-' if i > 0 else 'r--'\n",
    "            plt.plot(X_new,y_predict,style)\n",
    "        random_index = np.random.randint(m)\n",
    "        xi = X_b[random_index:random_index+1]\n",
    "        yi = y[random_index:random_index+1]\n",
    "        gradients = 2*xi.T.dot(xi.dot(theta)-yi)\n",
    "        eta = learning_schedule(epoch*m+i)\n",
    "        theta = theta - eta*gradients\n",
    "        theta_path_sgd.append(theta)\n",
    "plt.plot(X,y,'b.')\n",
    "plt.xlabel('$x_1$',fontsize=18)\n",
    "plt.ylabel('$y$',rotation=0,fontsize=18)\n",
    "plt.axis([0,2,0,15])\n",
    "plt.show()"
   ]
  },
  {
   "cell_type": "markdown",
   "id": "e4d6d246",
   "metadata": {},
   "source": [
    "### (13)"
   ]
  },
  {
   "cell_type": "code",
   "execution_count": 61,
   "id": "709d865a",
   "metadata": {},
   "outputs": [
    {
     "data": {
      "text/plain": [
       "array([[4.00749171],\n",
       "       [3.02911073]])"
      ]
     },
     "execution_count": 61,
     "metadata": {},
     "output_type": "execute_result"
    }
   ],
   "source": [
    "theta"
   ]
  },
  {
   "cell_type": "markdown",
   "id": "9597be85",
   "metadata": {},
   "source": [
    "### (14)"
   ]
  },
  {
   "cell_type": "code",
   "execution_count": 62,
   "id": "14d14d02",
   "metadata": {},
   "outputs": [
    {
     "data": {
      "text/plain": [
       "SGDRegressor(eta0=0.1, max_iter=50, penalty=None, random_state=42)"
      ]
     },
     "execution_count": 62,
     "metadata": {},
     "output_type": "execute_result"
    }
   ],
   "source": [
    "from sklearn.linear_model import SGDRegressor\n",
    "sgd_reg = SGDRegressor(max_iter=50,penalty=None,eta0=0.1,random_state=42)\n",
    "sgd_reg.fit(X,y.ravel())"
   ]
  },
  {
   "cell_type": "markdown",
   "id": "55084f20",
   "metadata": {},
   "source": [
    "### (15)"
   ]
  },
  {
   "cell_type": "code",
   "execution_count": 63,
   "id": "6e8a2f27",
   "metadata": {},
   "outputs": [
    {
     "name": "stdout",
     "output_type": "stream",
     "text": [
      "[4.01156184] [3.03770296]\n"
     ]
    }
   ],
   "source": [
    "print(sgd_reg.intercept_, sgd_reg.coef_)"
   ]
  },
  {
   "cell_type": "markdown",
   "id": "71e71602",
   "metadata": {},
   "source": [
    "### (16)"
   ]
  },
  {
   "cell_type": "code",
   "execution_count": 64,
   "id": "b9961bc1",
   "metadata": {},
   "outputs": [
    {
     "name": "stdout",
     "output_type": "stream",
     "text": [
      "[[4.05040239]\n",
      " [3.0475958 ]]\n"
     ]
    }
   ],
   "source": [
    "theta_path_mgd = []\n",
    "n_iterations = 50\n",
    "minibatch_size = 20\n",
    "np.random.seed(42)\n",
    "theta = np.random.randn(2,1)\n",
    "t0, t1 = 200,1000\n",
    "def learning_schedule(t):\n",
    "    return t0/(t+t1)\n",
    "t = 0\n",
    "for epoch in range(n_iterations):\n",
    "    shuffled_indices = np.random.permutation(m)\n",
    "    X_b_shuffled = X_b[shuffled_indices]\n",
    "    y_shuffled = y[shuffled_indices]\n",
    "    for i in range(0,m,minibatch_size):\n",
    "        t += 1\n",
    "        xi = X_b_shuffled[i:i+minibatch_size]\n",
    "        yi = y_shuffled[i:i+minibatch_size]\n",
    "        gradients = 2/minibatch_size*xi.T.dot(xi.dot(theta) - yi)\n",
    "        eta = learning_schedule(t)\n",
    "        theta = theta-eta*gradients\n",
    "        theta_path_mgd.append(theta)\n",
    "print(theta)"
   ]
  },
  {
   "cell_type": "markdown",
   "id": "e8dbb5eb",
   "metadata": {},
   "source": [
    "### (17)"
   ]
  },
  {
   "cell_type": "code",
   "execution_count": 66,
   "id": "3f1cea0e",
   "metadata": {},
   "outputs": [
    {
     "data": {
      "image/png": "[encoded data removed]",
      "text/plain": [
       "<Figure size 504x288 with 1 Axes>"
      ]
     },
     "metadata": {
      "needs_background": "light"
     },
     "output_type": "display_data"
    }
   ],
   "source": [
    "theta_path_bgd = np.array(theta_path_bgd)\n",
    "theta_path_sgd = np.array(theta_path_sgd)\n",
    "theta_path_mgd = np.array(theta_path_mgd)\n",
    "plt.figure(figsize=(7,4))\n",
    "plt.plot(theta_path_sgd[:,0],theta_path_sgd[:,1],'r-s',linewidth=1,label='SGD')\n",
    "plt.plot(theta_path_mgd[:,0],theta_path_mgd[:,1],'g-+',linewidth=2,label='MINI_BATCH')\n",
    "plt.plot(theta_path_bgd[:,0],theta_path_bgd[:,1],'b-o',linewidth=3,label='BATCH')\n",
    "plt.legend(loc='upper left',fontsize=16)\n",
    "plt.xlabel(r'$\\theta_0$',fontsize=20)\n",
    "plt.ylabel(r'$\\theta_1$    ',fontsize=20,rotation=0)\n",
    "plt.axis([2.5,4.5,2.3,3.9])\n",
    "plt.show()"
   ]
  },
  {
   "cell_type": "markdown",
   "id": "1fbec890",
   "metadata": {},
   "source": [
    "# 3번"
   ]
  },
  {
   "cell_type": "code",
   "execution_count": 73,
   "id": "e777304e",
   "metadata": {},
   "outputs": [
    {
     "data": {
      "image/png": "[encoded data removed]",
      "text/plain": [
       "<Figure size 576x288 with 2 Axes>"
      ]
     },
     "metadata": {
      "needs_background": "light"
     },
     "output_type": "display_data"
    }
   ],
   "source": [
    "from sklearn.linear_model import Ridge\n",
    "from sklearn.pipeline import Pipeline\n",
    "from sklearn.preprocessing import PolynomialFeatures, StandardScaler\n",
    "\n",
    "np.random.seed(42)\n",
    "m = 20\n",
    "X = 3 * np.random.rand(m,1)\n",
    "y = 1+0.5*X+np.random.randn(m,1)/1.5\n",
    "X_new = np.linspace(0,3,100).reshape(100,1)\n",
    "def plot_model(model_class,polynomial,alphas,**model_kargs):\n",
    "    for alpha, style in zip(alphas,('b-','g--','r:')):\n",
    "        model = model_class(alpha,**model_kargs) if alpha > 0 else LinearRegression()\n",
    "        if polynomial:\n",
    "            model = Pipeline([('poly_features',PolynomialFeatures(degree=10,include_bias=False)),\n",
    "                            ('std_scaler',StandardScaler()),\n",
    "                            ('regul_reg',model),])\n",
    "        model.fit(X,y)\n",
    "        y_new_regul = model.predict(X_new)\n",
    "        lw = 2 if alpha > 0 else 1\n",
    "        plt.plot(X_new,y_new_regul,style,linewidth=lw,label=r'$\\alpha = {}$'.format(alpha))\n",
    "    plt.plot(X,y,'b.',linewidth=3)\n",
    "    plt.legend(loc='upper left',fontsize=15)\n",
    "    plt.xlabel('$x_1$',fontsize=18)\n",
    "    plt.axis([0,3,0,4])\n",
    "plt.figure(figsize=(8,4))\n",
    "plt.subplot(121)\n",
    "plot_model(Ridge,polynomial=False,alphas=(0,10,100),random_state=42)\n",
    "plt.ylabel('$y$',rotation=0,fontsize=18)\n",
    "plt.subplot(122)\n",
    "plot_model(Ridge,polynomial=True,alphas=(0,10**-5,1),random_state=42)\n",
    "plt.show()"
   ]
  },
  {
   "cell_type": "markdown",
   "id": "256abecc",
   "metadata": {},
   "source": [
    "# 4번"
   ]
  },
  {
   "cell_type": "code",
   "execution_count": 80,
   "id": "fc9bbdfe",
   "metadata": {},
   "outputs": [
    {
     "data": {
      "image/png": "[encoded data removed]",
      "text/plain": [
       "<Figure size 792x288 with 2 Axes>"
      ]
     },
     "metadata": {
      "needs_background": "light"
     },
     "output_type": "display_data"
    }
   ],
   "source": [
    "from __future__ import division, print_function, unicode_literals\n",
    "\n",
    "import os\n",
    "import numpy as np\n",
    "%matplotlib inline\n",
    "import matplotlib\n",
    "import matplotlib.pyplot as plt\n",
    "\n",
    "def logit(z):\n",
    "    return 1 / (1 + np.exp(-z))\n",
    "\n",
    "def relu(z):\n",
    "    return np.maximum(0,z)\n",
    "\n",
    "def derivative(f,z,eps=0.000001):\n",
    "    return (f(z+eps)-f(z-eps))/(2*eps)\n",
    "\n",
    "z = np.linspace(-5,5,200)\n",
    "\n",
    "plt.figure(figsize=(11,4))\n",
    "\n",
    "plt.subplot(121)\n",
    "plt.plot(z,np.sign(z),'r-',linewidth=2,label='step')\n",
    "plt.plot(z,logit(z),'g--',linewidth=2,label='sigmoid')\n",
    "plt.plot(z,np.tanh(z),'b-',linewidth=2,label='tanh')\n",
    "plt.plot(z,relu(z),'m-.',linewidth=2,label='ReLU')\n",
    "plt.grid(True)\n",
    "plt.legend(loc='center right',fontsize=14)\n",
    "plt.title('activation function: g(z)',fontsize=14)\n",
    "plt.axis([-5,5,-1.2,1.2])\n",
    "\n",
    "plt.subplot(122)\n",
    "plt.plot(z,derivative(np.sign,z),'r-',linewidth=2,label='step')\n",
    "plt.plot(0,0,'ro',markersize=5)\n",
    "plt.plot(0,0,'rx',markersize=10)\n",
    "plt.plot(z,derivative(logit,z),'g--',linewidth=2,label='sigmoid')\n",
    "plt.plot(z,derivative(np.tanh,z),'b-',linewidth=2,label='tanh')\n",
    "plt.plot(z,derivative(relu,z),'m-.',linewidth=2,label='ReLU')\n",
    "plt.grid(True)\n",
    "plt.title(\"gradient: g'(z)\",fontsize=14)\n",
    "plt.axis([-5,5,-0.2,1.2])\n",
    "plt.show()"
   ]
  },
  {
   "cell_type": "markdown",
   "id": "25f16369",
   "metadata": {},
   "source": [
    "# 8번"
   ]
  },
  {
   "cell_type": "markdown",
   "id": "d29b0468",
   "metadata": {},
   "source": [
    "### (4)"
   ]
  },
  {
   "cell_type": "code",
   "execution_count": null,
   "id": "b36fc3bd",
   "metadata": {},
   "outputs": [],
   "source": []
  }
 ],
 "metadata": {
  "kernelspec": {
   "display_name": "Python 3",
   "language": "python",
   "name": "python3"
  },
  "language_info": {
   "codemirror_mode": {
    "name": "ipython",
    "version": 3
   },
   "file_extension": ".py",
   "mimetype": "text/x-python",
   "name": "python",
   "nbconvert_exporter": "python",
   "pygments_lexer": "ipython3",
   "version": "3.8.8"
  }
 },
 "nbformat": 4,
 "nbformat_minor": 5
}
